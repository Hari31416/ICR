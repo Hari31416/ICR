{
 "cells": [
  {
   "cell_type": "markdown",
   "id": "09f240a1",
   "metadata": {
    "papermill": {
     "duration": 0.019119,
     "end_time": "2023-07-09T04:45:36.283922",
     "exception": false,
     "start_time": "2023-07-09T04:45:36.264803",
     "status": "completed"
    },
    "tags": []
   },
   "source": [
    "# Imports"
   ]
  },
  {
   "cell_type": "code",
   "execution_count": 1,
   "id": "23ce671a",
   "metadata": {
    "execution": {
     "iopub.execute_input": "2023-07-09T04:45:36.323423Z",
     "iopub.status.busy": "2023-07-09T04:45:36.322893Z",
     "iopub.status.idle": "2023-07-09T04:45:39.242949Z",
     "shell.execute_reply": "2023-07-09T04:45:39.241962Z"
    },
    "papermill": {
     "duration": 2.943716,
     "end_time": "2023-07-09T04:45:39.246092",
     "exception": false,
     "start_time": "2023-07-09T04:45:36.302376",
     "status": "completed"
    },
    "tags": []
   },
   "outputs": [],
   "source": [
    "import numpy as np\n",
    "import pandas as pd\n",
    "import matplotlib.pyplot as plt\n",
    "import seaborn as sns\n",
    "import os\n",
    "from tqdm import tqdm\n",
    "\n",
    "from sklearn.impute import KNNImputer, SimpleImputer\n",
    "from sklearn.compose import ColumnTransformer\n",
    "from sklearn.pipeline import Pipeline\n",
    "from sklearn.preprocessing import StandardScaler, PowerTransformer\n",
    "from sklearn.model_selection import train_test_split, GridSearchCV\n",
    "\n",
    "from sklearn.metrics import (\n",
    "    accuracy_score,\n",
    "    confusion_matrix,\n",
    "    classification_report,\n",
    "    ConfusionMatrixDisplay,\n",
    "    roc_auc_score,\n",
    ")\n",
    "\n",
    "from sklearn.linear_model import LogisticRegression\n",
    "from sklearn.ensemble import RandomForestClassifier, GradientBoostingClassifier, VotingClassifier\n",
    "from sklearn.svm import SVC\n",
    "\n",
    "from catboost import CatBoostClassifier\n",
    "from xgboost import XGBClassifier\n"
   ]
  },
  {
   "cell_type": "code",
   "execution_count": 2,
   "id": "6a0094f0",
   "metadata": {
    "execution": {
     "iopub.execute_input": "2023-07-09T04:45:39.287490Z",
     "iopub.status.busy": "2023-07-09T04:45:39.286110Z",
     "iopub.status.idle": "2023-07-09T04:45:39.292437Z",
     "shell.execute_reply": "2023-07-09T04:45:39.290912Z"
    },
    "papermill": {
     "duration": 0.030059,
     "end_time": "2023-07-09T04:45:39.295634",
     "exception": false,
     "start_time": "2023-07-09T04:45:39.265575",
     "status": "completed"
    },
    "tags": []
   },
   "outputs": [],
   "source": [
    "RANDOM_SEED = 42"
   ]
  },
  {
   "cell_type": "markdown",
   "id": "219326bb",
   "metadata": {
    "papermill": {
     "duration": 0.018171,
     "end_time": "2023-07-09T04:45:39.332621",
     "exception": false,
     "start_time": "2023-07-09T04:45:39.314450",
     "status": "completed"
    },
    "tags": []
   },
   "source": [
    "# Loading Data"
   ]
  },
  {
   "cell_type": "code",
   "execution_count": 3,
   "id": "e8b71e53",
   "metadata": {
    "execution": {
     "iopub.execute_input": "2023-07-09T04:45:39.372146Z",
     "iopub.status.busy": "2023-07-09T04:45:39.371675Z",
     "iopub.status.idle": "2023-07-09T04:45:39.377470Z",
     "shell.execute_reply": "2023-07-09T04:45:39.376083Z"
    },
    "papermill": {
     "duration": 0.028471,
     "end_time": "2023-07-09T04:45:39.379852",
     "exception": false,
     "start_time": "2023-07-09T04:45:39.351381",
     "status": "completed"
    },
    "tags": []
   },
   "outputs": [],
   "source": [
    "kaggle = \"KAGGLE\" in \"\".join(os.environ.keys())"
   ]
  },
  {
   "cell_type": "code",
   "execution_count": 4,
   "id": "dbb60131",
   "metadata": {
    "execution": {
     "iopub.execute_input": "2023-07-09T04:45:39.420417Z",
     "iopub.status.busy": "2023-07-09T04:45:39.420018Z",
     "iopub.status.idle": "2023-07-09T04:45:39.478697Z",
     "shell.execute_reply": "2023-07-09T04:45:39.477521Z"
    },
    "papermill": {
     "duration": 0.082385,
     "end_time": "2023-07-09T04:45:39.481532",
     "exception": false,
     "start_time": "2023-07-09T04:45:39.399147",
     "status": "completed"
    },
    "tags": []
   },
   "outputs": [],
   "source": [
    "if kaggle:\n",
    "    train = pd.read_csv(\"/kaggle/input/icr-identify-age-related-conditions/train.csv\")\n",
    "    test = pd.read_csv(\"/kaggle/input/icr-identify-age-related-conditions/test.csv\")\n",
    "    greeks = pd.read_csv(\"/kaggle/input/icr-identify-age-related-conditions/greeks.csv\")\n",
    "else:\n",
    "    train = pd.read_csv(\"data/train.csv\")\n",
    "    test = pd.read_csv(\"data/test.csv\")\n",
    "    greeks = pd.read_csv(\"data/greeks.csv\")"
   ]
  },
  {
   "cell_type": "markdown",
   "id": "f6e9bec3",
   "metadata": {
    "papermill": {
     "duration": 0.017665,
     "end_time": "2023-07-09T04:45:39.518153",
     "exception": false,
     "start_time": "2023-07-09T04:45:39.500488",
     "status": "completed"
    },
    "tags": []
   },
   "source": [
    "# Data Pipeline"
   ]
  },
  {
   "cell_type": "markdown",
   "id": "369437f5",
   "metadata": {
    "papermill": {
     "duration": 0.017696,
     "end_time": "2023-07-09T04:45:39.553783",
     "exception": false,
     "start_time": "2023-07-09T04:45:39.536087",
     "status": "completed"
    },
    "tags": []
   },
   "source": [
    "## Preliminaries"
   ]
  },
  {
   "cell_type": "markdown",
   "id": "0665c791",
   "metadata": {
    "papermill": {
     "duration": 0.018296,
     "end_time": "2023-07-09T04:45:39.589907",
     "exception": false,
     "start_time": "2023-07-09T04:45:39.571611",
     "status": "completed"
    },
    "tags": []
   },
   "source": [
    "Label encode the `EJ` column"
   ]
  },
  {
   "cell_type": "code",
   "execution_count": 5,
   "id": "e277d925",
   "metadata": {
    "execution": {
     "iopub.execute_input": "2023-07-09T04:45:39.627553Z",
     "iopub.status.busy": "2023-07-09T04:45:39.627073Z",
     "iopub.status.idle": "2023-07-09T04:45:39.641063Z",
     "shell.execute_reply": "2023-07-09T04:45:39.639724Z"
    },
    "papermill": {
     "duration": 0.035987,
     "end_time": "2023-07-09T04:45:39.643793",
     "exception": false,
     "start_time": "2023-07-09T04:45:39.607806",
     "status": "completed"
    },
    "tags": []
   },
   "outputs": [],
   "source": [
    "train[\"EJ\"].replace({\"A\": 0, \"B\": 1}, inplace=True)\n",
    "test[\"EJ\"].replace({\"A\": 0, \"B\": 1}, inplace=True)"
   ]
  },
  {
   "cell_type": "markdown",
   "id": "cc440327",
   "metadata": {
    "papermill": {
     "duration": 0.017613,
     "end_time": "2023-07-09T04:45:39.679343",
     "exception": false,
     "start_time": "2023-07-09T04:45:39.661730",
     "status": "completed"
    },
    "tags": []
   },
   "source": [
    "Drop extra columns:"
   ]
  },
  {
   "cell_type": "code",
   "execution_count": 6,
   "id": "343b1d52",
   "metadata": {
    "execution": {
     "iopub.execute_input": "2023-07-09T04:45:39.716964Z",
     "iopub.status.busy": "2023-07-09T04:45:39.716553Z",
     "iopub.status.idle": "2023-07-09T04:45:39.736604Z",
     "shell.execute_reply": "2023-07-09T04:45:39.734863Z"
    },
    "papermill": {
     "duration": 0.042315,
     "end_time": "2023-07-09T04:45:39.739471",
     "exception": false,
     "start_time": "2023-07-09T04:45:39.697156",
     "status": "completed"
    },
    "tags": []
   },
   "outputs": [],
   "source": [
    "train_id = train[\"Id\"]\n",
    "test_id = test[\"Id\"]\n",
    "y = train[\"Class\"]\n",
    "\n",
    "train = train.drop([\"Class\"], axis=1)\n",
    "train = train.drop([\"Id\"], axis=1)\n",
    "test  = test.drop([\"Id\"], axis=1)"
   ]
  },
  {
   "cell_type": "markdown",
   "id": "b1f6e8dc",
   "metadata": {
    "papermill": {
     "duration": 0.017574,
     "end_time": "2023-07-09T04:45:39.775005",
     "exception": false,
     "start_time": "2023-07-09T04:45:39.757431",
     "status": "completed"
    },
    "tags": []
   },
   "source": [
    "Create the columns for imputation:"
   ]
  },
  {
   "cell_type": "code",
   "execution_count": 7,
   "id": "676a8327",
   "metadata": {
    "execution": {
     "iopub.execute_input": "2023-07-09T04:45:39.812680Z",
     "iopub.status.busy": "2023-07-09T04:45:39.812267Z",
     "iopub.status.idle": "2023-07-09T04:45:39.821236Z",
     "shell.execute_reply": "2023-07-09T04:45:39.820068Z"
    },
    "papermill": {
     "duration": 0.031015,
     "end_time": "2023-07-09T04:45:39.823883",
     "exception": false,
     "start_time": "2023-07-09T04:45:39.792868",
     "status": "completed"
    },
    "tags": []
   },
   "outputs": [],
   "source": [
    "train_null_columns = list(train.columns[train.isna().sum() != 0])\n",
    "test_null_columns = list(test.columns[test.isna().sum() != 0])"
   ]
  },
  {
   "cell_type": "code",
   "execution_count": 8,
   "id": "74321e1d",
   "metadata": {
    "execution": {
     "iopub.execute_input": "2023-07-09T04:45:39.863193Z",
     "iopub.status.busy": "2023-07-09T04:45:39.862422Z",
     "iopub.status.idle": "2023-07-09T04:45:39.872734Z",
     "shell.execute_reply": "2023-07-09T04:45:39.871651Z"
    },
    "papermill": {
     "duration": 0.033293,
     "end_time": "2023-07-09T04:45:39.875761",
     "exception": false,
     "start_time": "2023-07-09T04:45:39.842468",
     "status": "completed"
    },
    "tags": []
   },
   "outputs": [
    {
     "name": "stdout",
     "output_type": "stream",
     "text": [
      "Train columns with mean ['BQ', 'CB', 'CC', 'DU', 'EL', 'FC', 'FL', 'FS', 'GL']\n",
      "Train columns with knn []\n"
     ]
    }
   ],
   "source": [
    "thresh = 20000\n",
    "train_columns_to_fill_via_mean = []\n",
    "train_columns_to_fill_via_knn = []\n",
    "\n",
    "null_count = train[train_null_columns].isna().sum()\n",
    "for column in train_null_columns:\n",
    "    if null_count[column] <= thresh:\n",
    "        train_columns_to_fill_via_mean.append(column)\n",
    "    else:\n",
    "        train_columns_to_fill_via_knn.append(column)\n",
    "\n",
    "print(\"Train columns with mean\" ,train_columns_to_fill_via_mean)\n",
    "print(\"Train columns with knn\", train_columns_to_fill_via_knn)"
   ]
  },
  {
   "cell_type": "code",
   "execution_count": 9,
   "id": "f05782d2",
   "metadata": {
    "execution": {
     "iopub.execute_input": "2023-07-09T04:45:39.914366Z",
     "iopub.status.busy": "2023-07-09T04:45:39.913642Z",
     "iopub.status.idle": "2023-07-09T04:45:39.923189Z",
     "shell.execute_reply": "2023-07-09T04:45:39.921866Z"
    },
    "papermill": {
     "duration": 0.031464,
     "end_time": "2023-07-09T04:45:39.925539",
     "exception": false,
     "start_time": "2023-07-09T04:45:39.894075",
     "status": "completed"
    },
    "tags": []
   },
   "outputs": [
    {
     "name": "stdout",
     "output_type": "stream",
     "text": [
      "test columns with mean []\n",
      "test columns with knn []\n"
     ]
    }
   ],
   "source": [
    "thresh = 20000\n",
    "test_columns_to_fill_via_mean = []\n",
    "test_columns_to_fill_via_knn = []\n",
    "\n",
    "null_count = test[test_null_columns].isna().sum()\n",
    "for column in test_null_columns:\n",
    "    if null_count[column] <= thresh:\n",
    "        test_columns_to_fill_via_mean.append(column)\n",
    "    else:\n",
    "        test_columns_to_fill_via_knn.append(column)\n",
    "\n",
    "print(\"test columns with mean\" ,test_columns_to_fill_via_mean)\n",
    "print(\"test columns with knn\", test_columns_to_fill_via_knn)"
   ]
  },
  {
   "cell_type": "markdown",
   "id": "c062dcbb",
   "metadata": {
    "papermill": {
     "duration": 0.01765,
     "end_time": "2023-07-09T04:45:39.961892",
     "exception": false,
     "start_time": "2023-07-09T04:45:39.944242",
     "status": "completed"
    },
    "tags": []
   },
   "source": [
    "## Pipelines"
   ]
  },
  {
   "cell_type": "markdown",
   "id": "4fdcdcc4",
   "metadata": {
    "papermill": {
     "duration": 0.017803,
     "end_time": "2023-07-09T04:45:39.997600",
     "exception": false,
     "start_time": "2023-07-09T04:45:39.979797",
     "status": "completed"
    },
    "tags": []
   },
   "source": [
    "Now, the column transformations:"
   ]
  },
  {
   "cell_type": "code",
   "execution_count": 10,
   "id": "c04606a2",
   "metadata": {
    "execution": {
     "iopub.execute_input": "2023-07-09T04:45:40.039188Z",
     "iopub.status.busy": "2023-07-09T04:45:40.038506Z",
     "iopub.status.idle": "2023-07-09T04:45:40.047513Z",
     "shell.execute_reply": "2023-07-09T04:45:40.046554Z"
    },
    "papermill": {
     "duration": 0.033581,
     "end_time": "2023-07-09T04:45:40.050013",
     "exception": false,
     "start_time": "2023-07-09T04:45:40.016432",
     "status": "completed"
    },
    "tags": []
   },
   "outputs": [],
   "source": [
    "simple_imputer = SimpleImputer(strategy=\"mean\")\n",
    "knn_imputer = KNNImputer(n_neighbors=5)\n",
    "\n",
    "train_imputer = ColumnTransformer(\n",
    "    [\n",
    "        (\"mean_imputer\", simple_imputer, train_columns_to_fill_via_mean),\n",
    "        (\"knn_imputer\", knn_imputer, train_columns_to_fill_via_knn),\n",
    "    ],\n",
    "    remainder=\"passthrough\",\n",
    ")\n",
    "\n",
    "test_imputer = ColumnTransformer(\n",
    "    [\n",
    "        (\"mean_imputer\", simple_imputer, test_columns_to_fill_via_mean),\n",
    "        (\"knn_imputer\", knn_imputer, test_columns_to_fill_via_knn),\n",
    "    ],\n",
    "    remainder=\"passthrough\",\n",
    ")\n",
    "\n",
    "standard_scaler = StandardScaler()\n",
    "power_transformer = PowerTransformer()\n",
    "\n",
    "train_scaling_pipe = Pipeline(\n",
    "    [\n",
    "        (\"standard_scaler\", standard_scaler),\n",
    "        (\"power_transformer\", power_transformer),\n",
    "    ],\n",
    ")\n",
    "standard_scaler_ = StandardScaler()\n",
    "power_transformer_ = PowerTransformer()\n",
    "\n",
    "test_scaling_pipe = Pipeline(\n",
    "    [\n",
    "        (\"standard_scaler\", standard_scaler_),\n",
    "        (\"power_transformer\", power_transformer_),\n",
    "    ],\n",
    ")"
   ]
  },
  {
   "cell_type": "markdown",
   "id": "5a546179",
   "metadata": {
    "papermill": {
     "duration": 0.018254,
     "end_time": "2023-07-09T04:45:40.086436",
     "exception": false,
     "start_time": "2023-07-09T04:45:40.068182",
     "status": "completed"
    },
    "tags": []
   },
   "source": [
    "And the final data preprocessor:"
   ]
  },
  {
   "cell_type": "code",
   "execution_count": 11,
   "id": "2173edc6",
   "metadata": {
    "execution": {
     "iopub.execute_input": "2023-07-09T04:45:40.127724Z",
     "iopub.status.busy": "2023-07-09T04:45:40.126777Z",
     "iopub.status.idle": "2023-07-09T04:45:40.172185Z",
     "shell.execute_reply": "2023-07-09T04:45:40.171061Z"
    },
    "papermill": {
     "duration": 0.069373,
     "end_time": "2023-07-09T04:45:40.174893",
     "exception": false,
     "start_time": "2023-07-09T04:45:40.105520",
     "status": "completed"
    },
    "tags": []
   },
   "outputs": [
    {
     "data": {
      "text/html": [
       "<style>#sk-container-id-1 {color: black;background-color: white;}#sk-container-id-1 pre{padding: 0;}#sk-container-id-1 div.sk-toggleable {background-color: white;}#sk-container-id-1 label.sk-toggleable__label {cursor: pointer;display: block;width: 100%;margin-bottom: 0;padding: 0.3em;box-sizing: border-box;text-align: center;}#sk-container-id-1 label.sk-toggleable__label-arrow:before {content: \"▸\";float: left;margin-right: 0.25em;color: #696969;}#sk-container-id-1 label.sk-toggleable__label-arrow:hover:before {color: black;}#sk-container-id-1 div.sk-estimator:hover label.sk-toggleable__label-arrow:before {color: black;}#sk-container-id-1 div.sk-toggleable__content {max-height: 0;max-width: 0;overflow: hidden;text-align: left;background-color: #f0f8ff;}#sk-container-id-1 div.sk-toggleable__content pre {margin: 0.2em;color: black;border-radius: 0.25em;background-color: #f0f8ff;}#sk-container-id-1 input.sk-toggleable__control:checked~div.sk-toggleable__content {max-height: 200px;max-width: 100%;overflow: auto;}#sk-container-id-1 input.sk-toggleable__control:checked~label.sk-toggleable__label-arrow:before {content: \"▾\";}#sk-container-id-1 div.sk-estimator input.sk-toggleable__control:checked~label.sk-toggleable__label {background-color: #d4ebff;}#sk-container-id-1 div.sk-label input.sk-toggleable__control:checked~label.sk-toggleable__label {background-color: #d4ebff;}#sk-container-id-1 input.sk-hidden--visually {border: 0;clip: rect(1px 1px 1px 1px);clip: rect(1px, 1px, 1px, 1px);height: 1px;margin: -1px;overflow: hidden;padding: 0;position: absolute;width: 1px;}#sk-container-id-1 div.sk-estimator {font-family: monospace;background-color: #f0f8ff;border: 1px dotted black;border-radius: 0.25em;box-sizing: border-box;margin-bottom: 0.5em;}#sk-container-id-1 div.sk-estimator:hover {background-color: #d4ebff;}#sk-container-id-1 div.sk-parallel-item::after {content: \"\";width: 100%;border-bottom: 1px solid gray;flex-grow: 1;}#sk-container-id-1 div.sk-label:hover label.sk-toggleable__label {background-color: #d4ebff;}#sk-container-id-1 div.sk-serial::before {content: \"\";position: absolute;border-left: 1px solid gray;box-sizing: border-box;top: 0;bottom: 0;left: 50%;z-index: 0;}#sk-container-id-1 div.sk-serial {display: flex;flex-direction: column;align-items: center;background-color: white;padding-right: 0.2em;padding-left: 0.2em;position: relative;}#sk-container-id-1 div.sk-item {position: relative;z-index: 1;}#sk-container-id-1 div.sk-parallel {display: flex;align-items: stretch;justify-content: center;background-color: white;position: relative;}#sk-container-id-1 div.sk-item::before, #sk-container-id-1 div.sk-parallel-item::before {content: \"\";position: absolute;border-left: 1px solid gray;box-sizing: border-box;top: 0;bottom: 0;left: 50%;z-index: -1;}#sk-container-id-1 div.sk-parallel-item {display: flex;flex-direction: column;z-index: 1;position: relative;background-color: white;}#sk-container-id-1 div.sk-parallel-item:first-child::after {align-self: flex-end;width: 50%;}#sk-container-id-1 div.sk-parallel-item:last-child::after {align-self: flex-start;width: 50%;}#sk-container-id-1 div.sk-parallel-item:only-child::after {width: 0;}#sk-container-id-1 div.sk-dashed-wrapped {border: 1px dashed gray;margin: 0 0.4em 0.5em 0.4em;box-sizing: border-box;padding-bottom: 0.4em;background-color: white;}#sk-container-id-1 div.sk-label label {font-family: monospace;font-weight: bold;display: inline-block;line-height: 1.2em;}#sk-container-id-1 div.sk-label-container {text-align: center;}#sk-container-id-1 div.sk-container {/* jupyter's `normalize.less` sets `[hidden] { display: none; }` but bootstrap.min.css set `[hidden] { display: none !important; }` so we also need the `!important` here to be able to override the default hidden behavior on the sphinx rendered scikit-learn.org. See: https://github.com/scikit-learn/scikit-learn/issues/21755 */display: inline-block !important;position: relative;}#sk-container-id-1 div.sk-text-repr-fallback {display: none;}</style><div id=\"sk-container-id-1\" class=\"sk-top-container\"><div class=\"sk-text-repr-fallback\"><pre>Pipeline(steps=[(&#x27;imputer&#x27;,\n",
       "                 ColumnTransformer(remainder=&#x27;passthrough&#x27;,\n",
       "                                   transformers=[(&#x27;mean_imputer&#x27;,\n",
       "                                                  SimpleImputer(),\n",
       "                                                  [&#x27;BQ&#x27;, &#x27;CB&#x27;, &#x27;CC&#x27;, &#x27;DU&#x27;, &#x27;EL&#x27;,\n",
       "                                                   &#x27;FC&#x27;, &#x27;FL&#x27;, &#x27;FS&#x27;, &#x27;GL&#x27;]),\n",
       "                                                 (&#x27;knn_imputer&#x27;, KNNImputer(),\n",
       "                                                  [])])),\n",
       "                (&#x27;scaling_pipe&#x27;,\n",
       "                 Pipeline(steps=[(&#x27;standard_scaler&#x27;, StandardScaler()),\n",
       "                                 (&#x27;power_transformer&#x27;, PowerTransformer())]))])</pre><b>In a Jupyter environment, please rerun this cell to show the HTML representation or trust the notebook. <br />On GitHub, the HTML representation is unable to render, please try loading this page with nbviewer.org.</b></div><div class=\"sk-container\" hidden><div class=\"sk-item sk-dashed-wrapped\"><div class=\"sk-label-container\"><div class=\"sk-label sk-toggleable\"><input class=\"sk-toggleable__control sk-hidden--visually\" id=\"sk-estimator-id-1\" type=\"checkbox\" ><label for=\"sk-estimator-id-1\" class=\"sk-toggleable__label sk-toggleable__label-arrow\">Pipeline</label><div class=\"sk-toggleable__content\"><pre>Pipeline(steps=[(&#x27;imputer&#x27;,\n",
       "                 ColumnTransformer(remainder=&#x27;passthrough&#x27;,\n",
       "                                   transformers=[(&#x27;mean_imputer&#x27;,\n",
       "                                                  SimpleImputer(),\n",
       "                                                  [&#x27;BQ&#x27;, &#x27;CB&#x27;, &#x27;CC&#x27;, &#x27;DU&#x27;, &#x27;EL&#x27;,\n",
       "                                                   &#x27;FC&#x27;, &#x27;FL&#x27;, &#x27;FS&#x27;, &#x27;GL&#x27;]),\n",
       "                                                 (&#x27;knn_imputer&#x27;, KNNImputer(),\n",
       "                                                  [])])),\n",
       "                (&#x27;scaling_pipe&#x27;,\n",
       "                 Pipeline(steps=[(&#x27;standard_scaler&#x27;, StandardScaler()),\n",
       "                                 (&#x27;power_transformer&#x27;, PowerTransformer())]))])</pre></div></div></div><div class=\"sk-serial\"><div class=\"sk-item sk-dashed-wrapped\"><div class=\"sk-label-container\"><div class=\"sk-label sk-toggleable\"><input class=\"sk-toggleable__control sk-hidden--visually\" id=\"sk-estimator-id-2\" type=\"checkbox\" ><label for=\"sk-estimator-id-2\" class=\"sk-toggleable__label sk-toggleable__label-arrow\">imputer: ColumnTransformer</label><div class=\"sk-toggleable__content\"><pre>ColumnTransformer(remainder=&#x27;passthrough&#x27;,\n",
       "                  transformers=[(&#x27;mean_imputer&#x27;, SimpleImputer(),\n",
       "                                 [&#x27;BQ&#x27;, &#x27;CB&#x27;, &#x27;CC&#x27;, &#x27;DU&#x27;, &#x27;EL&#x27;, &#x27;FC&#x27;, &#x27;FL&#x27;,\n",
       "                                  &#x27;FS&#x27;, &#x27;GL&#x27;]),\n",
       "                                (&#x27;knn_imputer&#x27;, KNNImputer(), [])])</pre></div></div></div><div class=\"sk-parallel\"><div class=\"sk-parallel-item\"><div class=\"sk-item\"><div class=\"sk-label-container\"><div class=\"sk-label sk-toggleable\"><input class=\"sk-toggleable__control sk-hidden--visually\" id=\"sk-estimator-id-3\" type=\"checkbox\" ><label for=\"sk-estimator-id-3\" class=\"sk-toggleable__label sk-toggleable__label-arrow\">mean_imputer</label><div class=\"sk-toggleable__content\"><pre>[&#x27;BQ&#x27;, &#x27;CB&#x27;, &#x27;CC&#x27;, &#x27;DU&#x27;, &#x27;EL&#x27;, &#x27;FC&#x27;, &#x27;FL&#x27;, &#x27;FS&#x27;, &#x27;GL&#x27;]</pre></div></div></div><div class=\"sk-serial\"><div class=\"sk-item\"><div class=\"sk-estimator sk-toggleable\"><input class=\"sk-toggleable__control sk-hidden--visually\" id=\"sk-estimator-id-4\" type=\"checkbox\" ><label for=\"sk-estimator-id-4\" class=\"sk-toggleable__label sk-toggleable__label-arrow\">SimpleImputer</label><div class=\"sk-toggleable__content\"><pre>SimpleImputer()</pre></div></div></div></div></div></div><div class=\"sk-parallel-item\"><div class=\"sk-item\"><div class=\"sk-label-container\"><div class=\"sk-label sk-toggleable\"><input class=\"sk-toggleable__control sk-hidden--visually\" id=\"sk-estimator-id-5\" type=\"checkbox\" ><label for=\"sk-estimator-id-5\" class=\"sk-toggleable__label sk-toggleable__label-arrow\">knn_imputer</label><div class=\"sk-toggleable__content\"><pre>[]</pre></div></div></div><div class=\"sk-serial\"><div class=\"sk-item\"><div class=\"sk-estimator sk-toggleable\"><input class=\"sk-toggleable__control sk-hidden--visually\" id=\"sk-estimator-id-6\" type=\"checkbox\" ><label for=\"sk-estimator-id-6\" class=\"sk-toggleable__label sk-toggleable__label-arrow\">KNNImputer</label><div class=\"sk-toggleable__content\"><pre>KNNImputer()</pre></div></div></div></div></div></div><div class=\"sk-parallel-item\"><div class=\"sk-item\"><div class=\"sk-label-container\"><div class=\"sk-label sk-toggleable\"><input class=\"sk-toggleable__control sk-hidden--visually\" id=\"sk-estimator-id-7\" type=\"checkbox\" ><label for=\"sk-estimator-id-7\" class=\"sk-toggleable__label sk-toggleable__label-arrow\">remainder</label><div class=\"sk-toggleable__content\"><pre></pre></div></div></div><div class=\"sk-serial\"><div class=\"sk-item\"><div class=\"sk-estimator sk-toggleable\"><input class=\"sk-toggleable__control sk-hidden--visually\" id=\"sk-estimator-id-8\" type=\"checkbox\" ><label for=\"sk-estimator-id-8\" class=\"sk-toggleable__label sk-toggleable__label-arrow\">passthrough</label><div class=\"sk-toggleable__content\"><pre>passthrough</pre></div></div></div></div></div></div></div></div><div class=\"sk-item\"><div class=\"sk-label-container\"><div class=\"sk-label sk-toggleable\"><input class=\"sk-toggleable__control sk-hidden--visually\" id=\"sk-estimator-id-9\" type=\"checkbox\" ><label for=\"sk-estimator-id-9\" class=\"sk-toggleable__label sk-toggleable__label-arrow\">scaling_pipe: Pipeline</label><div class=\"sk-toggleable__content\"><pre>Pipeline(steps=[(&#x27;standard_scaler&#x27;, StandardScaler()),\n",
       "                (&#x27;power_transformer&#x27;, PowerTransformer())])</pre></div></div></div><div class=\"sk-serial\"><div class=\"sk-item\"><div class=\"sk-estimator sk-toggleable\"><input class=\"sk-toggleable__control sk-hidden--visually\" id=\"sk-estimator-id-10\" type=\"checkbox\" ><label for=\"sk-estimator-id-10\" class=\"sk-toggleable__label sk-toggleable__label-arrow\">StandardScaler</label><div class=\"sk-toggleable__content\"><pre>StandardScaler()</pre></div></div></div><div class=\"sk-item\"><div class=\"sk-estimator sk-toggleable\"><input class=\"sk-toggleable__control sk-hidden--visually\" id=\"sk-estimator-id-11\" type=\"checkbox\" ><label for=\"sk-estimator-id-11\" class=\"sk-toggleable__label sk-toggleable__label-arrow\">PowerTransformer</label><div class=\"sk-toggleable__content\"><pre>PowerTransformer()</pre></div></div></div></div></div></div></div></div></div>"
      ],
      "text/plain": [
       "Pipeline(steps=[('imputer',\n",
       "                 ColumnTransformer(remainder='passthrough',\n",
       "                                   transformers=[('mean_imputer',\n",
       "                                                  SimpleImputer(),\n",
       "                                                  ['BQ', 'CB', 'CC', 'DU', 'EL',\n",
       "                                                   'FC', 'FL', 'FS', 'GL']),\n",
       "                                                 ('knn_imputer', KNNImputer(),\n",
       "                                                  [])])),\n",
       "                ('scaling_pipe',\n",
       "                 Pipeline(steps=[('standard_scaler', StandardScaler()),\n",
       "                                 ('power_transformer', PowerTransformer())]))])"
      ]
     },
     "execution_count": 11,
     "metadata": {},
     "output_type": "execute_result"
    }
   ],
   "source": [
    "train_final_preprocessing_pipe = Pipeline([\n",
    "    (\"imputer\", train_imputer),\n",
    "    (\"scaling_pipe\", train_scaling_pipe)\n",
    "])\n",
    "\n",
    "test_final_preprocessing_pipe = Pipeline([\n",
    "    (\"imputer\", test_imputer),\n",
    "    (\"scaling_pipe\", test_scaling_pipe)\n",
    "])\n",
    "\n",
    "train_final_preprocessing_pipe"
   ]
  },
  {
   "cell_type": "code",
   "execution_count": 12,
   "id": "000423fc",
   "metadata": {
    "execution": {
     "iopub.execute_input": "2023-07-09T04:45:40.214308Z",
     "iopub.status.busy": "2023-07-09T04:45:40.213523Z",
     "iopub.status.idle": "2023-07-09T04:45:40.248089Z",
     "shell.execute_reply": "2023-07-09T04:45:40.246951Z"
    },
    "papermill": {
     "duration": 0.057319,
     "end_time": "2023-07-09T04:45:40.250729",
     "exception": false,
     "start_time": "2023-07-09T04:45:40.193410",
     "status": "completed"
    },
    "tags": []
   },
   "outputs": [
    {
     "data": {
      "text/html": [
       "<style>#sk-container-id-2 {color: black;background-color: white;}#sk-container-id-2 pre{padding: 0;}#sk-container-id-2 div.sk-toggleable {background-color: white;}#sk-container-id-2 label.sk-toggleable__label {cursor: pointer;display: block;width: 100%;margin-bottom: 0;padding: 0.3em;box-sizing: border-box;text-align: center;}#sk-container-id-2 label.sk-toggleable__label-arrow:before {content: \"▸\";float: left;margin-right: 0.25em;color: #696969;}#sk-container-id-2 label.sk-toggleable__label-arrow:hover:before {color: black;}#sk-container-id-2 div.sk-estimator:hover label.sk-toggleable__label-arrow:before {color: black;}#sk-container-id-2 div.sk-toggleable__content {max-height: 0;max-width: 0;overflow: hidden;text-align: left;background-color: #f0f8ff;}#sk-container-id-2 div.sk-toggleable__content pre {margin: 0.2em;color: black;border-radius: 0.25em;background-color: #f0f8ff;}#sk-container-id-2 input.sk-toggleable__control:checked~div.sk-toggleable__content {max-height: 200px;max-width: 100%;overflow: auto;}#sk-container-id-2 input.sk-toggleable__control:checked~label.sk-toggleable__label-arrow:before {content: \"▾\";}#sk-container-id-2 div.sk-estimator input.sk-toggleable__control:checked~label.sk-toggleable__label {background-color: #d4ebff;}#sk-container-id-2 div.sk-label input.sk-toggleable__control:checked~label.sk-toggleable__label {background-color: #d4ebff;}#sk-container-id-2 input.sk-hidden--visually {border: 0;clip: rect(1px 1px 1px 1px);clip: rect(1px, 1px, 1px, 1px);height: 1px;margin: -1px;overflow: hidden;padding: 0;position: absolute;width: 1px;}#sk-container-id-2 div.sk-estimator {font-family: monospace;background-color: #f0f8ff;border: 1px dotted black;border-radius: 0.25em;box-sizing: border-box;margin-bottom: 0.5em;}#sk-container-id-2 div.sk-estimator:hover {background-color: #d4ebff;}#sk-container-id-2 div.sk-parallel-item::after {content: \"\";width: 100%;border-bottom: 1px solid gray;flex-grow: 1;}#sk-container-id-2 div.sk-label:hover label.sk-toggleable__label {background-color: #d4ebff;}#sk-container-id-2 div.sk-serial::before {content: \"\";position: absolute;border-left: 1px solid gray;box-sizing: border-box;top: 0;bottom: 0;left: 50%;z-index: 0;}#sk-container-id-2 div.sk-serial {display: flex;flex-direction: column;align-items: center;background-color: white;padding-right: 0.2em;padding-left: 0.2em;position: relative;}#sk-container-id-2 div.sk-item {position: relative;z-index: 1;}#sk-container-id-2 div.sk-parallel {display: flex;align-items: stretch;justify-content: center;background-color: white;position: relative;}#sk-container-id-2 div.sk-item::before, #sk-container-id-2 div.sk-parallel-item::before {content: \"\";position: absolute;border-left: 1px solid gray;box-sizing: border-box;top: 0;bottom: 0;left: 50%;z-index: -1;}#sk-container-id-2 div.sk-parallel-item {display: flex;flex-direction: column;z-index: 1;position: relative;background-color: white;}#sk-container-id-2 div.sk-parallel-item:first-child::after {align-self: flex-end;width: 50%;}#sk-container-id-2 div.sk-parallel-item:last-child::after {align-self: flex-start;width: 50%;}#sk-container-id-2 div.sk-parallel-item:only-child::after {width: 0;}#sk-container-id-2 div.sk-dashed-wrapped {border: 1px dashed gray;margin: 0 0.4em 0.5em 0.4em;box-sizing: border-box;padding-bottom: 0.4em;background-color: white;}#sk-container-id-2 div.sk-label label {font-family: monospace;font-weight: bold;display: inline-block;line-height: 1.2em;}#sk-container-id-2 div.sk-label-container {text-align: center;}#sk-container-id-2 div.sk-container {/* jupyter's `normalize.less` sets `[hidden] { display: none; }` but bootstrap.min.css set `[hidden] { display: none !important; }` so we also need the `!important` here to be able to override the default hidden behavior on the sphinx rendered scikit-learn.org. See: https://github.com/scikit-learn/scikit-learn/issues/21755 */display: inline-block !important;position: relative;}#sk-container-id-2 div.sk-text-repr-fallback {display: none;}</style><div id=\"sk-container-id-2\" class=\"sk-top-container\"><div class=\"sk-text-repr-fallback\"><pre>Pipeline(steps=[(&#x27;imputer&#x27;,\n",
       "                 ColumnTransformer(remainder=&#x27;passthrough&#x27;,\n",
       "                                   transformers=[(&#x27;mean_imputer&#x27;,\n",
       "                                                  SimpleImputer(), []),\n",
       "                                                 (&#x27;knn_imputer&#x27;, KNNImputer(),\n",
       "                                                  [])])),\n",
       "                (&#x27;scaling_pipe&#x27;,\n",
       "                 Pipeline(steps=[(&#x27;standard_scaler&#x27;, StandardScaler()),\n",
       "                                 (&#x27;power_transformer&#x27;, PowerTransformer())]))])</pre><b>In a Jupyter environment, please rerun this cell to show the HTML representation or trust the notebook. <br />On GitHub, the HTML representation is unable to render, please try loading this page with nbviewer.org.</b></div><div class=\"sk-container\" hidden><div class=\"sk-item sk-dashed-wrapped\"><div class=\"sk-label-container\"><div class=\"sk-label sk-toggleable\"><input class=\"sk-toggleable__control sk-hidden--visually\" id=\"sk-estimator-id-12\" type=\"checkbox\" ><label for=\"sk-estimator-id-12\" class=\"sk-toggleable__label sk-toggleable__label-arrow\">Pipeline</label><div class=\"sk-toggleable__content\"><pre>Pipeline(steps=[(&#x27;imputer&#x27;,\n",
       "                 ColumnTransformer(remainder=&#x27;passthrough&#x27;,\n",
       "                                   transformers=[(&#x27;mean_imputer&#x27;,\n",
       "                                                  SimpleImputer(), []),\n",
       "                                                 (&#x27;knn_imputer&#x27;, KNNImputer(),\n",
       "                                                  [])])),\n",
       "                (&#x27;scaling_pipe&#x27;,\n",
       "                 Pipeline(steps=[(&#x27;standard_scaler&#x27;, StandardScaler()),\n",
       "                                 (&#x27;power_transformer&#x27;, PowerTransformer())]))])</pre></div></div></div><div class=\"sk-serial\"><div class=\"sk-item sk-dashed-wrapped\"><div class=\"sk-label-container\"><div class=\"sk-label sk-toggleable\"><input class=\"sk-toggleable__control sk-hidden--visually\" id=\"sk-estimator-id-13\" type=\"checkbox\" ><label for=\"sk-estimator-id-13\" class=\"sk-toggleable__label sk-toggleable__label-arrow\">imputer: ColumnTransformer</label><div class=\"sk-toggleable__content\"><pre>ColumnTransformer(remainder=&#x27;passthrough&#x27;,\n",
       "                  transformers=[(&#x27;mean_imputer&#x27;, SimpleImputer(), []),\n",
       "                                (&#x27;knn_imputer&#x27;, KNNImputer(), [])])</pre></div></div></div><div class=\"sk-parallel\"><div class=\"sk-parallel-item\"><div class=\"sk-item\"><div class=\"sk-label-container\"><div class=\"sk-label sk-toggleable\"><input class=\"sk-toggleable__control sk-hidden--visually\" id=\"sk-estimator-id-14\" type=\"checkbox\" ><label for=\"sk-estimator-id-14\" class=\"sk-toggleable__label sk-toggleable__label-arrow\">mean_imputer</label><div class=\"sk-toggleable__content\"><pre>[]</pre></div></div></div><div class=\"sk-serial\"><div class=\"sk-item\"><div class=\"sk-estimator sk-toggleable\"><input class=\"sk-toggleable__control sk-hidden--visually\" id=\"sk-estimator-id-15\" type=\"checkbox\" ><label for=\"sk-estimator-id-15\" class=\"sk-toggleable__label sk-toggleable__label-arrow\">SimpleImputer</label><div class=\"sk-toggleable__content\"><pre>SimpleImputer()</pre></div></div></div></div></div></div><div class=\"sk-parallel-item\"><div class=\"sk-item\"><div class=\"sk-label-container\"><div class=\"sk-label sk-toggleable\"><input class=\"sk-toggleable__control sk-hidden--visually\" id=\"sk-estimator-id-16\" type=\"checkbox\" ><label for=\"sk-estimator-id-16\" class=\"sk-toggleable__label sk-toggleable__label-arrow\">knn_imputer</label><div class=\"sk-toggleable__content\"><pre>[]</pre></div></div></div><div class=\"sk-serial\"><div class=\"sk-item\"><div class=\"sk-estimator sk-toggleable\"><input class=\"sk-toggleable__control sk-hidden--visually\" id=\"sk-estimator-id-17\" type=\"checkbox\" ><label for=\"sk-estimator-id-17\" class=\"sk-toggleable__label sk-toggleable__label-arrow\">KNNImputer</label><div class=\"sk-toggleable__content\"><pre>KNNImputer()</pre></div></div></div></div></div></div><div class=\"sk-parallel-item\"><div class=\"sk-item\"><div class=\"sk-label-container\"><div class=\"sk-label sk-toggleable\"><input class=\"sk-toggleable__control sk-hidden--visually\" id=\"sk-estimator-id-18\" type=\"checkbox\" ><label for=\"sk-estimator-id-18\" class=\"sk-toggleable__label sk-toggleable__label-arrow\">remainder</label><div class=\"sk-toggleable__content\"><pre></pre></div></div></div><div class=\"sk-serial\"><div class=\"sk-item\"><div class=\"sk-estimator sk-toggleable\"><input class=\"sk-toggleable__control sk-hidden--visually\" id=\"sk-estimator-id-19\" type=\"checkbox\" ><label for=\"sk-estimator-id-19\" class=\"sk-toggleable__label sk-toggleable__label-arrow\">passthrough</label><div class=\"sk-toggleable__content\"><pre>passthrough</pre></div></div></div></div></div></div></div></div><div class=\"sk-item\"><div class=\"sk-label-container\"><div class=\"sk-label sk-toggleable\"><input class=\"sk-toggleable__control sk-hidden--visually\" id=\"sk-estimator-id-20\" type=\"checkbox\" ><label for=\"sk-estimator-id-20\" class=\"sk-toggleable__label sk-toggleable__label-arrow\">scaling_pipe: Pipeline</label><div class=\"sk-toggleable__content\"><pre>Pipeline(steps=[(&#x27;standard_scaler&#x27;, StandardScaler()),\n",
       "                (&#x27;power_transformer&#x27;, PowerTransformer())])</pre></div></div></div><div class=\"sk-serial\"><div class=\"sk-item\"><div class=\"sk-estimator sk-toggleable\"><input class=\"sk-toggleable__control sk-hidden--visually\" id=\"sk-estimator-id-21\" type=\"checkbox\" ><label for=\"sk-estimator-id-21\" class=\"sk-toggleable__label sk-toggleable__label-arrow\">StandardScaler</label><div class=\"sk-toggleable__content\"><pre>StandardScaler()</pre></div></div></div><div class=\"sk-item\"><div class=\"sk-estimator sk-toggleable\"><input class=\"sk-toggleable__control sk-hidden--visually\" id=\"sk-estimator-id-22\" type=\"checkbox\" ><label for=\"sk-estimator-id-22\" class=\"sk-toggleable__label sk-toggleable__label-arrow\">PowerTransformer</label><div class=\"sk-toggleable__content\"><pre>PowerTransformer()</pre></div></div></div></div></div></div></div></div></div>"
      ],
      "text/plain": [
       "Pipeline(steps=[('imputer',\n",
       "                 ColumnTransformer(remainder='passthrough',\n",
       "                                   transformers=[('mean_imputer',\n",
       "                                                  SimpleImputer(), []),\n",
       "                                                 ('knn_imputer', KNNImputer(),\n",
       "                                                  [])])),\n",
       "                ('scaling_pipe',\n",
       "                 Pipeline(steps=[('standard_scaler', StandardScaler()),\n",
       "                                 ('power_transformer', PowerTransformer())]))])"
      ]
     },
     "execution_count": 12,
     "metadata": {},
     "output_type": "execute_result"
    }
   ],
   "source": [
    "test_final_preprocessing_pipe"
   ]
  },
  {
   "cell_type": "code",
   "execution_count": 13,
   "id": "0cac9ff6",
   "metadata": {
    "execution": {
     "iopub.execute_input": "2023-07-09T04:45:40.290794Z",
     "iopub.status.busy": "2023-07-09T04:45:40.290009Z",
     "iopub.status.idle": "2023-07-09T04:45:40.297117Z",
     "shell.execute_reply": "2023-07-09T04:45:40.296176Z"
    },
    "papermill": {
     "duration": 0.029827,
     "end_time": "2023-07-09T04:45:40.299408",
     "exception": false,
     "start_time": "2023-07-09T04:45:40.269581",
     "status": "completed"
    },
    "tags": []
   },
   "outputs": [
    {
     "data": {
      "text/plain": [
       "False"
      ]
     },
     "execution_count": 13,
     "metadata": {},
     "output_type": "execute_result"
    }
   ],
   "source": [
    "train_final_preprocessing_pipe[1] == test_final_preprocessing_pipe[1]"
   ]
  },
  {
   "cell_type": "markdown",
   "id": "f5e9ca5b",
   "metadata": {
    "papermill": {
     "duration": 0.018651,
     "end_time": "2023-07-09T04:45:40.337202",
     "exception": false,
     "start_time": "2023-07-09T04:45:40.318551",
     "status": "completed"
    },
    "tags": []
   },
   "source": [
    "Excellent! Now, we will create the dataset to be trained:"
   ]
  },
  {
   "cell_type": "code",
   "execution_count": 14,
   "id": "4a16fd57",
   "metadata": {
    "execution": {
     "iopub.execute_input": "2023-07-09T04:45:40.378586Z",
     "iopub.status.busy": "2023-07-09T04:45:40.377749Z",
     "iopub.status.idle": "2023-07-09T04:45:40.769140Z",
     "shell.execute_reply": "2023-07-09T04:45:40.768209Z"
    },
    "papermill": {
     "duration": 0.41492,
     "end_time": "2023-07-09T04:45:40.771850",
     "exception": false,
     "start_time": "2023-07-09T04:45:40.356930",
     "status": "completed"
    },
    "tags": []
   },
   "outputs": [],
   "source": [
    "X = train_final_preprocessing_pipe.fit_transform(train)\n",
    "test_final = test_final_preprocessing_pipe.fit_transform(test)"
   ]
  },
  {
   "cell_type": "code",
   "execution_count": 15,
   "id": "3daee710",
   "metadata": {
    "execution": {
     "iopub.execute_input": "2023-07-09T04:45:40.812096Z",
     "iopub.status.busy": "2023-07-09T04:45:40.811681Z",
     "iopub.status.idle": "2023-07-09T04:45:40.815949Z",
     "shell.execute_reply": "2023-07-09T04:45:40.815104Z"
    },
    "papermill": {
     "duration": 0.026947,
     "end_time": "2023-07-09T04:45:40.817998",
     "exception": false,
     "start_time": "2023-07-09T04:45:40.791051",
     "status": "completed"
    },
    "tags": []
   },
   "outputs": [],
   "source": [
    "y = y.values"
   ]
  },
  {
   "cell_type": "code",
   "execution_count": 16,
   "id": "61b1a7b2",
   "metadata": {
    "execution": {
     "iopub.execute_input": "2023-07-09T04:45:40.858950Z",
     "iopub.status.busy": "2023-07-09T04:45:40.857959Z",
     "iopub.status.idle": "2023-07-09T04:45:40.864801Z",
     "shell.execute_reply": "2023-07-09T04:45:40.863737Z"
    },
    "papermill": {
     "duration": 0.030373,
     "end_time": "2023-07-09T04:45:40.867364",
     "exception": false,
     "start_time": "2023-07-09T04:45:40.836991",
     "status": "completed"
    },
    "tags": []
   },
   "outputs": [
    {
     "data": {
      "text/plain": [
       "0"
      ]
     },
     "execution_count": 16,
     "metadata": {},
     "output_type": "execute_result"
    }
   ],
   "source": [
    "np.isnan(X).sum()"
   ]
  },
  {
   "cell_type": "markdown",
   "id": "f2854f09",
   "metadata": {
    "papermill": {
     "duration": 0.018988,
     "end_time": "2023-07-09T04:45:40.905696",
     "exception": false,
     "start_time": "2023-07-09T04:45:40.886708",
     "status": "completed"
    },
    "tags": []
   },
   "source": [
    "We will make sure that both the training and test sets have the same number of columns:"
   ]
  },
  {
   "cell_type": "code",
   "execution_count": 17,
   "id": "576fc330",
   "metadata": {
    "execution": {
     "iopub.execute_input": "2023-07-09T04:45:40.946675Z",
     "iopub.status.busy": "2023-07-09T04:45:40.946035Z",
     "iopub.status.idle": "2023-07-09T04:45:40.951298Z",
     "shell.execute_reply": "2023-07-09T04:45:40.950400Z"
    },
    "papermill": {
     "duration": 0.028779,
     "end_time": "2023-07-09T04:45:40.953680",
     "exception": false,
     "start_time": "2023-07-09T04:45:40.924901",
     "status": "completed"
    },
    "tags": []
   },
   "outputs": [],
   "source": [
    "assert X.shape[1] == test_final.shape[1]"
   ]
  },
  {
   "cell_type": "markdown",
   "id": "da72c924",
   "metadata": {
    "papermill": {
     "duration": 0.018879,
     "end_time": "2023-07-09T04:45:40.991950",
     "exception": false,
     "start_time": "2023-07-09T04:45:40.973071",
     "status": "completed"
    },
    "tags": []
   },
   "source": [
    "## Train Test Split"
   ]
  },
  {
   "cell_type": "markdown",
   "id": "f6a7461a",
   "metadata": {
    "papermill": {
     "duration": 0.020587,
     "end_time": "2023-07-09T04:45:41.032303",
     "exception": false,
     "start_time": "2023-07-09T04:45:41.011716",
     "status": "completed"
    },
    "tags": []
   },
   "source": [
    "Great Let's do a train test split:"
   ]
  },
  {
   "cell_type": "code",
   "execution_count": 18,
   "id": "4bafe08a",
   "metadata": {
    "execution": {
     "iopub.execute_input": "2023-07-09T04:45:41.073349Z",
     "iopub.status.busy": "2023-07-09T04:45:41.072913Z",
     "iopub.status.idle": "2023-07-09T04:45:41.079669Z",
     "shell.execute_reply": "2023-07-09T04:45:41.078469Z"
    },
    "papermill": {
     "duration": 0.030488,
     "end_time": "2023-07-09T04:45:41.082229",
     "exception": false,
     "start_time": "2023-07-09T04:45:41.051741",
     "status": "completed"
    },
    "tags": []
   },
   "outputs": [],
   "source": [
    "X_train, X_test, y_train, y_test = train_test_split(X, y, test_size=0.2, random_state=42)"
   ]
  },
  {
   "cell_type": "markdown",
   "id": "efa7f078",
   "metadata": {
    "papermill": {
     "duration": 0.018883,
     "end_time": "2023-07-09T04:45:41.120454",
     "exception": false,
     "start_time": "2023-07-09T04:45:41.101571",
     "status": "completed"
    },
    "tags": []
   },
   "source": [
    "# Helper Functions  "
   ]
  },
  {
   "cell_type": "markdown",
   "id": "53c5bdbf",
   "metadata": {
    "papermill": {
     "duration": 0.018805,
     "end_time": "2023-07-09T04:45:41.158464",
     "exception": false,
     "start_time": "2023-07-09T04:45:41.139659",
     "status": "completed"
    },
    "tags": []
   },
   "source": [
    "We will create some helper functions to help us train and evaluate our models:"
   ]
  },
  {
   "cell_type": "code",
   "execution_count": 19,
   "id": "a8ce3eb5",
   "metadata": {
    "execution": {
     "iopub.execute_input": "2023-07-09T04:45:41.198992Z",
     "iopub.status.busy": "2023-07-09T04:45:41.198340Z",
     "iopub.status.idle": "2023-07-09T04:45:41.207541Z",
     "shell.execute_reply": "2023-07-09T04:45:41.206706Z"
    },
    "papermill": {
     "duration": 0.032284,
     "end_time": "2023-07-09T04:45:41.209930",
     "exception": false,
     "start_time": "2023-07-09T04:45:41.177646",
     "status": "completed"
    },
    "tags": []
   },
   "outputs": [],
   "source": [
    "def balanced_log_loss(y_true, y_hat):\n",
    "    \"\"\"\n",
    "    Compute the balanced log loss between y_true and y_hat.\n",
    "\n",
    "    Parameters:\n",
    "    y_true (array-like): True labels of shape (n_samples, n_classes).\n",
    "    y_hat (array-like): Predicted probabilities of shape (n_samples, n_classes).\n",
    "\n",
    "    Returns:\n",
    "    float: The balanced log loss between y_true and y_hat.\n",
    "    \"\"\"\n",
    "    eps = 1e-15\n",
    "    y_hat = np.clip(y_hat, eps, 1 - eps)\n",
    "    if isinstance(y_true, pd.Series):\n",
    "        y_true = y_true.values\n",
    "    if isinstance(y_hat, pd.Series):\n",
    "        y_hat = y_hat.values\n",
    "    \n",
    "    y_true = y_true.astype(int)\n",
    "    N0 = np.sum(y_true == 0)\n",
    "    N1 = np.sum(y_true == 1)\n",
    "    w0 = 1/N0\n",
    "    w1 = 1/N1\n",
    "    yhat0 = y_hat[:, 0]\n",
    "    yhat1 = y_hat[:, 1]\n",
    "    loss0 = -w0 * np.sum((1 -y_true) * np.log(yhat0))\n",
    "    loss1 = -w1 * np.sum((y_true) * np.log(yhat1))\n",
    "    return (loss0 + loss1)/2"
   ]
  },
  {
   "cell_type": "code",
   "execution_count": 20,
   "id": "0007a7b2",
   "metadata": {
    "execution": {
     "iopub.execute_input": "2023-07-09T04:45:41.250776Z",
     "iopub.status.busy": "2023-07-09T04:45:41.250181Z",
     "iopub.status.idle": "2023-07-09T04:45:41.265622Z",
     "shell.execute_reply": "2023-07-09T04:45:41.264370Z"
    },
    "papermill": {
     "duration": 0.039351,
     "end_time": "2023-07-09T04:45:41.268564",
     "exception": false,
     "start_time": "2023-07-09T04:45:41.229213",
     "status": "completed"
    },
    "tags": []
   },
   "outputs": [],
   "source": [
    "def cm_to_metrics(cm):\n",
    "    \"\"\"Calculate accuracy, precision, recall and f1 score from confusion matrix.\n",
    "\n",
    "    Parameters\n",
    "    ----------\n",
    "    cm : array-like\n",
    "        Confusion matrix.\n",
    "\n",
    "    Returns\n",
    "    -------\n",
    "    accuracy : float\n",
    "        Accuracy score.\n",
    "    precision : float\n",
    "        Precision score.\n",
    "    recall : float\n",
    "        Recall score.\n",
    "    f1 : float\n",
    "        F1 score.\n",
    "    \"\"\"\n",
    "    tn, fp, fn, tp = cm.ravel()\n",
    "    accuracy = (tp + tn) / (tp + tn + fp + fn)\n",
    "    precision = tp / (tp + fp)\n",
    "    recall = tp / (tp + fn)\n",
    "    f1 = 2 * (precision * recall) / (precision + recall)\n",
    "    return accuracy, precision, recall, f1\n",
    "\n",
    "\n",
    "def evaluate_model(\n",
    "    model,\n",
    "    on=\"train\",\n",
    "    plot_cmat=False,\n",
    "    verbose=True,\n",
    "):\n",
    "    \"\"\"\n",
    "    This function evaluates a model and returns the metrics.\n",
    "    It can be used to evaluate the model on the training set or the test set.\n",
    "    It can also plot the confusion matrix.\n",
    "    Parameters\n",
    "    ----------\n",
    "    model : object\n",
    "        The model to be evaluated.\n",
    "    on : str, optional\n",
    "        The set on which the model will be evaluated. The default is \"train\".\n",
    "    plot_cmat : bool, optional\n",
    "        Whether to plot the confusion matrix. The default is False.\n",
    "    verbose : bool, optional\n",
    "        Whether to print the metrics. The default is True.\n",
    "\n",
    "    Returns\n",
    "    -------\n",
    "    result : dict\n",
    "        A dictionary with the metrics.\n",
    "\n",
    "    Example\n",
    "    -------\n",
    "    >>> result = evaluate_model(model)\n",
    "    >>> print(result)\n",
    "    {'accuracy': 0.8, 'precision': 0.8, 'recall': 0.8, 'f1': 0.8, 'auc': 0.8}\n",
    "\n",
    "    >>> result = evaluate_model(model, on=\"test\")\n",
    "    >>> print(result)\n",
    "    {'accuracy': 0.8, 'precision': 0.8, 'recall': 0.8, 'f1': 0.8, 'auc': 0.8}\n",
    "\n",
    "    >>> result = evaluate_model(model, plot_cmat=True)\n",
    "    >>> print(result)\n",
    "    {'accuracy': 0.8, 'precision': 0.8, 'recall': 0.8, 'f1': 0.8, 'auc': 0.8}\n",
    "\n",
    "    >>> result = evaluate_model(model, on=\"test\", plot_cmat=True)\n",
    "    >>> print(result)\n",
    "    {'accuracy': 0.8, 'precision': 0.8, 'recall': 0.8, 'f1': 0.8, 'auc': 0.8}\n",
    "    \"\"\"\n",
    "    if on == \"train\":\n",
    "        X = X_train\n",
    "        y = y_train\n",
    "    else:\n",
    "        X = X_test\n",
    "        y = y_test\n",
    "    y_pred = model.predict(X)\n",
    "    cm = confusion_matrix(y, y_pred)\n",
    "    accuracy, precision, recall, f1 = cm_to_metrics(cm)\n",
    "    auc_score = roc_auc_score(y, y_pred)\n",
    "    y_pred_prob = model.predict_proba(X)\n",
    "    balanced_ll = balanced_log_loss(y, y_pred_prob)\n",
    "    \n",
    "\n",
    "    if plot_cmat:\n",
    "        disp = ConfusionMatrixDisplay(\n",
    "            confusion_matrix=cm, display_labels=[\"1\", \"0\"]\n",
    "        )\n",
    "        disp.plot()\n",
    "        plt.show()\n",
    "    if verbose:\n",
    "        try:\n",
    "            model_name = model.__class__.__name__\n",
    "        except:\n",
    "            model_name = \"\"\n",
    "        print(f\"Accuracy on {on} set of the model {model_name}: {accuracy:.4f}\")\n",
    "        print(f\"Log Loss on {on} set of the model {model_name}: {balanced_ll:.4f}\")\n",
    "        print(f\"Precision on {on} set of the model {model_name}: {precision:.4f}\")\n",
    "        print(f\"Recall on {on} set of the model {model_name}: {recall:.4f}\")\n",
    "        print(f\"F1 on {on} set of the model {model_name}: {f1:.4f}\")\n",
    "        print(f\"AUC on {on} set of the model {model_name}: {auc_score:.4f}\\n\")\n",
    "        cr = classification_report(y, y_pred)\n",
    "        print(cr)\n",
    "    result = {\n",
    "        \"accuracy\": accuracy,\n",
    "        \"log_loss\": balanced_ll,\n",
    "        \"precision\": precision,\n",
    "        \"recall\": recall,\n",
    "        \"f1\": f1,\n",
    "        \"auc\": auc_score,\n",
    "    }\n",
    "    return result"
   ]
  },
  {
   "cell_type": "code",
   "execution_count": 21,
   "id": "8c145a45",
   "metadata": {
    "execution": {
     "iopub.execute_input": "2023-07-09T04:45:41.312957Z",
     "iopub.status.busy": "2023-07-09T04:45:41.312515Z",
     "iopub.status.idle": "2023-07-09T04:45:41.320612Z",
     "shell.execute_reply": "2023-07-09T04:45:41.319182Z"
    },
    "papermill": {
     "duration": 0.034252,
     "end_time": "2023-07-09T04:45:41.323118",
     "exception": false,
     "start_time": "2023-07-09T04:45:41.288866",
     "status": "completed"
    },
    "tags": []
   },
   "outputs": [],
   "source": [
    "def train_cv(model, cv, scorer=balanced_log_loss):\n",
    "    \"\"\"\n",
    "    This function trains a model using cross-validation.\n",
    "    Parameters\n",
    "    ----------\n",
    "    model : object\n",
    "        The model to be trained.\n",
    "    cv : object\n",
    "        A cross-validation object.\n",
    "\n",
    "    Returns\n",
    "    -------\n",
    "    models : list\n",
    "        A list of the trained models.\n",
    "    \"\"\"\n",
    "    train_scores = []\n",
    "    test_scores = []\n",
    "    for X_train, y_train, X_test, y_test in cv:\n",
    "        model.fit(X_train, y_train)\n",
    "        y_pred = model.predict_proba(X_train)\n",
    "        train_score = scorer(y_train, y_pred)\n",
    "        train_scores.append(train_score)\n",
    "        y_pred = model.predict_proba(X_test)\n",
    "        test_score = scorer(y_test, y_pred)\n",
    "        test_scores.append(test_score)\n",
    "    return train_scores, test_scores"
   ]
  },
  {
   "cell_type": "code",
   "execution_count": 22,
   "id": "4fcc2019",
   "metadata": {
    "execution": {
     "iopub.execute_input": "2023-07-09T04:45:41.363418Z",
     "iopub.status.busy": "2023-07-09T04:45:41.362992Z",
     "iopub.status.idle": "2023-07-09T04:45:41.370543Z",
     "shell.execute_reply": "2023-07-09T04:45:41.369035Z"
    },
    "papermill": {
     "duration": 0.030329,
     "end_time": "2023-07-09T04:45:41.372808",
     "exception": false,
     "start_time": "2023-07-09T04:45:41.342479",
     "status": "completed"
    },
    "tags": []
   },
   "outputs": [],
   "source": [
    "def create_and_train_model(model, params, cv, scorer=balanced_log_loss):\n",
    "    \"\"\"\n",
    "    This function creates and trains a model using cross-validation.\n",
    "    Parameters\n",
    "    ----------\n",
    "    model : object\n",
    "        The model to be trained.\n",
    "    params : dict\n",
    "        The parameters of the model.\n",
    "    cv : object\n",
    "        A cross-validation object.\n",
    "\n",
    "    Returns\n",
    "    -------\n",
    "    models : list\n",
    "        A list of the trained models.\n",
    "    \"\"\"\n",
    "    best_score = 0\n",
    "    for param in params:\n",
    "        model.set_params(**param)\n",
    "        train_scores, test_scores = train_cv(model, cv, scorer=scorer)\n",
    "        models.append((model, train_scores, test_scores))\n",
    "    return models"
   ]
  },
  {
   "cell_type": "markdown",
   "id": "82860db4",
   "metadata": {
    "papermill": {
     "duration": 0.018947,
     "end_time": "2023-07-09T04:45:41.411152",
     "exception": false,
     "start_time": "2023-07-09T04:45:41.392205",
     "status": "completed"
    },
    "tags": []
   },
   "source": [
    "# Individual Models"
   ]
  },
  {
   "cell_type": "code",
   "execution_count": 23,
   "id": "529132b8",
   "metadata": {
    "execution": {
     "iopub.execute_input": "2023-07-09T04:45:41.452158Z",
     "iopub.status.busy": "2023-07-09T04:45:41.451417Z",
     "iopub.status.idle": "2023-07-09T04:45:41.458563Z",
     "shell.execute_reply": "2023-07-09T04:45:41.457632Z"
    },
    "papermill": {
     "duration": 0.03046,
     "end_time": "2023-07-09T04:45:41.460864",
     "exception": false,
     "start_time": "2023-07-09T04:45:41.430404",
     "status": "completed"
    },
    "tags": []
   },
   "outputs": [
    {
     "data": {
      "text/plain": [
       "{0: 1, 1: 4.712962962962963}"
      ]
     },
     "execution_count": 23,
     "metadata": {},
     "output_type": "execute_result"
    }
   ],
   "source": [
    "one_weight = 1/y.mean()\n",
    "zero_weight = 1/(1- y.mean())\n",
    "class_weight = {0:1, 1:one_weight/zero_weight}\n",
    "class_weight"
   ]
  },
  {
   "cell_type": "code",
   "execution_count": 24,
   "id": "e4d6ec4a",
   "metadata": {
    "execution": {
     "iopub.execute_input": "2023-07-09T04:45:41.502630Z",
     "iopub.status.busy": "2023-07-09T04:45:41.501919Z",
     "iopub.status.idle": "2023-07-09T04:45:41.509678Z",
     "shell.execute_reply": "2023-07-09T04:45:41.508456Z"
    },
    "papermill": {
     "duration": 0.031948,
     "end_time": "2023-07-09T04:45:41.512300",
     "exception": false,
     "start_time": "2023-07-09T04:45:41.480352",
     "status": "completed"
    },
    "tags": []
   },
   "outputs": [],
   "source": [
    "svc_best_params = {\n",
    "    \"C\": 0.1,\n",
    "    \"kernel\": \"rbf\",\n",
    "    \"probability\": True,\n",
    "    \"class_weight\": class_weight,\n",
    "}\n",
    "\n",
    "rf_best_params = {\n",
    "    \"n_estimators\": 180,\n",
    "    \"max_depth\": 4,\n",
    "    \"min_samples_split\": 3,\n",
    "    \"min_samples_leaf\": 2,\n",
    "    \"class_weight\": class_weight,\n",
    "}\n",
    "\n",
    "xgb_best_params = {\n",
    "    \"n_estimators\": 100,\n",
    "    \"max_depth\": 3,\n",
    "    \"learning_rate\": 0.05,\n",
    "    \"subsample\": 0.5,\n",
    "    \"colsample_bytree\": 0.5,\n",
    "    \"gamma\": 0.1,\n",
    "    \"reg_alpha\": 0.1,\n",
    "    \"reg_lambda\": 0.1,\n",
    "    \"scale_pos_weight\": class_weight[1],\n",
    "}\n",
    "\n",
    "cat_best_params = {\n",
    "    \"n_estimators\": 100,\n",
    "    \"max_depth\": 3,\n",
    "    \"learning_rate\": 0.05,\n",
    "    \"subsample\": 0.5,\n",
    "    \"colsample_bylevel\": 0.5,\n",
    "    \"l2_leaf_reg\": 0.1,\n",
    "    \"scale_pos_weight\": class_weight[1],\n",
    "}"
   ]
  },
  {
   "cell_type": "markdown",
   "id": "de65c29d",
   "metadata": {
    "papermill": {
     "duration": 0.019115,
     "end_time": "2023-07-09T04:45:41.550886",
     "exception": false,
     "start_time": "2023-07-09T04:45:41.531771",
     "status": "completed"
    },
    "tags": []
   },
   "source": [
    "## SVC"
   ]
  },
  {
   "cell_type": "code",
   "execution_count": 25,
   "id": "e48817f0",
   "metadata": {
    "execution": {
     "iopub.execute_input": "2023-07-09T04:45:41.592206Z",
     "iopub.status.busy": "2023-07-09T04:45:41.591475Z",
     "iopub.status.idle": "2023-07-09T04:45:42.354379Z",
     "shell.execute_reply": "2023-07-09T04:45:42.353171Z"
    },
    "papermill": {
     "duration": 0.787195,
     "end_time": "2023-07-09T04:45:42.357525",
     "exception": false,
     "start_time": "2023-07-09T04:45:41.570330",
     "status": "completed"
    },
    "tags": []
   },
   "outputs": [
    {
     "data": {
      "image/png": "[encoded data removed]",
      "text/plain": [
       "<Figure size 640x480 with 2 Axes>"
      ]
     },
     "metadata": {},
     "output_type": "display_data"
    },
    {
     "name": "stdout",
     "output_type": "stream",
     "text": [
      "Accuracy on train set of the model SVC: 0.8864\n",
      "Log Loss on train set of the model SVC: 0.2530\n",
      "Precision on train set of the model SVC: 0.6107\n",
      "Recall on train set of the model SVC: 0.9412\n",
      "F1 on train set of the model SVC: 0.7407\n",
      "AUC on train set of the model SVC: 0.9081\n",
      "\n",
      "              precision    recall  f1-score   support\n",
      "\n",
      "           0       0.99      0.88      0.93       408\n",
      "           1       0.61      0.94      0.74        85\n",
      "\n",
      "    accuracy                           0.89       493\n",
      "   macro avg       0.80      0.91      0.83       493\n",
      "weighted avg       0.92      0.89      0.90       493\n",
      "\n"
     ]
    },
    {
     "data": {
      "image/png": "[encoded data removed]",
      "text/plain": [
       "<Figure size 640x480 with 2 Axes>"
      ]
     },
     "metadata": {},
     "output_type": "display_data"
    },
    {
     "name": "stdout",
     "output_type": "stream",
     "text": [
      "Accuracy on test set of the model SVC: 0.8548\n",
      "Log Loss on test set of the model SVC: 0.3510\n",
      "Precision on test set of the model SVC: 0.5676\n",
      "Recall on test set of the model SVC: 0.9130\n",
      "F1 on test set of the model SVC: 0.7000\n",
      "AUC on test set of the model SVC: 0.8773\n",
      "\n",
      "              precision    recall  f1-score   support\n",
      "\n",
      "           0       0.98      0.84      0.90       101\n",
      "           1       0.57      0.91      0.70        23\n",
      "\n",
      "    accuracy                           0.85       124\n",
      "   macro avg       0.77      0.88      0.80       124\n",
      "weighted avg       0.90      0.85      0.87       124\n",
      "\n"
     ]
    }
   ],
   "source": [
    "svc = SVC(**svc_best_params)\n",
    "svc.fit(X_train, y_train)\n",
    "svc_result_train = evaluate_model(svc, plot_cmat=True)\n",
    "svc_result_test = evaluate_model(svc, plot_cmat=True, on = \"test\")"
   ]
  },
  {
   "cell_type": "markdown",
   "id": "2f134cda",
   "metadata": {
    "papermill": {
     "duration": 0.020371,
     "end_time": "2023-07-09T04:45:42.398468",
     "exception": false,
     "start_time": "2023-07-09T04:45:42.378097",
     "status": "completed"
    },
    "tags": []
   },
   "source": [
    "## Random Forest"
   ]
  },
  {
   "cell_type": "code",
   "execution_count": 26,
   "id": "0644bb5c",
   "metadata": {
    "execution": {
     "iopub.execute_input": "2023-07-09T04:45:42.442362Z",
     "iopub.status.busy": "2023-07-09T04:45:42.441475Z",
     "iopub.status.idle": "2023-07-09T04:45:43.015864Z",
     "shell.execute_reply": "2023-07-09T04:45:43.013823Z"
    },
    "papermill": {
     "duration": 0.599942,
     "end_time": "2023-07-09T04:45:43.018865",
     "exception": false,
     "start_time": "2023-07-09T04:45:42.418923",
     "status": "completed"
    },
    "tags": []
   },
   "outputs": [
    {
     "data": {
      "text/html": [
       "<style>#sk-container-id-3 {color: black;background-color: white;}#sk-container-id-3 pre{padding: 0;}#sk-container-id-3 div.sk-toggleable {background-color: white;}#sk-container-id-3 label.sk-toggleable__label {cursor: pointer;display: block;width: 100%;margin-bottom: 0;padding: 0.3em;box-sizing: border-box;text-align: center;}#sk-container-id-3 label.sk-toggleable__label-arrow:before {content: \"▸\";float: left;margin-right: 0.25em;color: #696969;}#sk-container-id-3 label.sk-toggleable__label-arrow:hover:before {color: black;}#sk-container-id-3 div.sk-estimator:hover label.sk-toggleable__label-arrow:before {color: black;}#sk-container-id-3 div.sk-toggleable__content {max-height: 0;max-width: 0;overflow: hidden;text-align: left;background-color: #f0f8ff;}#sk-container-id-3 div.sk-toggleable__content pre {margin: 0.2em;color: black;border-radius: 0.25em;background-color: #f0f8ff;}#sk-container-id-3 input.sk-toggleable__control:checked~div.sk-toggleable__content {max-height: 200px;max-width: 100%;overflow: auto;}#sk-container-id-3 input.sk-toggleable__control:checked~label.sk-toggleable__label-arrow:before {content: \"▾\";}#sk-container-id-3 div.sk-estimator input.sk-toggleable__control:checked~label.sk-toggleable__label {background-color: #d4ebff;}#sk-container-id-3 div.sk-label input.sk-toggleable__control:checked~label.sk-toggleable__label {background-color: #d4ebff;}#sk-container-id-3 input.sk-hidden--visually {border: 0;clip: rect(1px 1px 1px 1px);clip: rect(1px, 1px, 1px, 1px);height: 1px;margin: -1px;overflow: hidden;padding: 0;position: absolute;width: 1px;}#sk-container-id-3 div.sk-estimator {font-family: monospace;background-color: #f0f8ff;border: 1px dotted black;border-radius: 0.25em;box-sizing: border-box;margin-bottom: 0.5em;}#sk-container-id-3 div.sk-estimator:hover {background-color: #d4ebff;}#sk-container-id-3 div.sk-parallel-item::after {content: \"\";width: 100%;border-bottom: 1px solid gray;flex-grow: 1;}#sk-container-id-3 div.sk-label:hover label.sk-toggleable__label {background-color: #d4ebff;}#sk-container-id-3 div.sk-serial::before {content: \"\";position: absolute;border-left: 1px solid gray;box-sizing: border-box;top: 0;bottom: 0;left: 50%;z-index: 0;}#sk-container-id-3 div.sk-serial {display: flex;flex-direction: column;align-items: center;background-color: white;padding-right: 0.2em;padding-left: 0.2em;position: relative;}#sk-container-id-3 div.sk-item {position: relative;z-index: 1;}#sk-container-id-3 div.sk-parallel {display: flex;align-items: stretch;justify-content: center;background-color: white;position: relative;}#sk-container-id-3 div.sk-item::before, #sk-container-id-3 div.sk-parallel-item::before {content: \"\";position: absolute;border-left: 1px solid gray;box-sizing: border-box;top: 0;bottom: 0;left: 50%;z-index: -1;}#sk-container-id-3 div.sk-parallel-item {display: flex;flex-direction: column;z-index: 1;position: relative;background-color: white;}#sk-container-id-3 div.sk-parallel-item:first-child::after {align-self: flex-end;width: 50%;}#sk-container-id-3 div.sk-parallel-item:last-child::after {align-self: flex-start;width: 50%;}#sk-container-id-3 div.sk-parallel-item:only-child::after {width: 0;}#sk-container-id-3 div.sk-dashed-wrapped {border: 1px dashed gray;margin: 0 0.4em 0.5em 0.4em;box-sizing: border-box;padding-bottom: 0.4em;background-color: white;}#sk-container-id-3 div.sk-label label {font-family: monospace;font-weight: bold;display: inline-block;line-height: 1.2em;}#sk-container-id-3 div.sk-label-container {text-align: center;}#sk-container-id-3 div.sk-container {/* jupyter's `normalize.less` sets `[hidden] { display: none; }` but bootstrap.min.css set `[hidden] { display: none !important; }` so we also need the `!important` here to be able to override the default hidden behavior on the sphinx rendered scikit-learn.org. See: https://github.com/scikit-learn/scikit-learn/issues/21755 */display: inline-block !important;position: relative;}#sk-container-id-3 div.sk-text-repr-fallback {display: none;}</style><div id=\"sk-container-id-3\" class=\"sk-top-container\"><div class=\"sk-text-repr-fallback\"><pre>RandomForestClassifier(class_weight={0: 1, 1: 4.712962962962963}, max_depth=4,\n",
       "                       min_samples_leaf=2, min_samples_split=3,\n",
       "                       n_estimators=180, random_state=42)</pre><b>In a Jupyter environment, please rerun this cell to show the HTML representation or trust the notebook. <br />On GitHub, the HTML representation is unable to render, please try loading this page with nbviewer.org.</b></div><div class=\"sk-container\" hidden><div class=\"sk-item\"><div class=\"sk-estimator sk-toggleable\"><input class=\"sk-toggleable__control sk-hidden--visually\" id=\"sk-estimator-id-23\" type=\"checkbox\" checked><label for=\"sk-estimator-id-23\" class=\"sk-toggleable__label sk-toggleable__label-arrow\">RandomForestClassifier</label><div class=\"sk-toggleable__content\"><pre>RandomForestClassifier(class_weight={0: 1, 1: 4.712962962962963}, max_depth=4,\n",
       "                       min_samples_leaf=2, min_samples_split=3,\n",
       "                       n_estimators=180, random_state=42)</pre></div></div></div></div></div>"
      ],
      "text/plain": [
       "RandomForestClassifier(class_weight={0: 1, 1: 4.712962962962963}, max_depth=4,\n",
       "                       min_samples_leaf=2, min_samples_split=3,\n",
       "                       n_estimators=180, random_state=42)"
      ]
     },
     "execution_count": 26,
     "metadata": {},
     "output_type": "execute_result"
    }
   ],
   "source": [
    "rfc = RandomForestClassifier(random_state=RANDOM_SEED, **rf_best_params)\n",
    "rfc.fit(X_train, y_train)"
   ]
  },
  {
   "cell_type": "code",
   "execution_count": 27,
   "id": "08c0f5e0",
   "metadata": {
    "execution": {
     "iopub.execute_input": "2023-07-09T04:45:43.066729Z",
     "iopub.status.busy": "2023-07-09T04:45:43.066214Z",
     "iopub.status.idle": "2023-07-09T04:45:43.792887Z",
     "shell.execute_reply": "2023-07-09T04:45:43.791071Z"
    },
    "papermill": {
     "duration": 0.753041,
     "end_time": "2023-07-09T04:45:43.795664",
     "exception": false,
     "start_time": "2023-07-09T04:45:43.042623",
     "status": "completed"
    },
    "tags": []
   },
   "outputs": [
    {
     "data": {
      "image/png": "[encoded data removed]",
      "text/plain": [
       "<Figure size 640x480 with 2 Axes>"
      ]
     },
     "metadata": {},
     "output_type": "display_data"
    },
    {
     "name": "stdout",
     "output_type": "stream",
     "text": [
      "Accuracy on train set of the model RandomForestClassifier: 0.9675\n",
      "Log Loss on train set of the model RandomForestClassifier: 0.2740\n",
      "Precision on train set of the model RandomForestClassifier: 0.8876\n",
      "Recall on train set of the model RandomForestClassifier: 0.9294\n",
      "F1 on train set of the model RandomForestClassifier: 0.9080\n",
      "AUC on train set of the model RandomForestClassifier: 0.9525\n",
      "\n",
      "              precision    recall  f1-score   support\n",
      "\n",
      "           0       0.99      0.98      0.98       408\n",
      "           1       0.89      0.93      0.91        85\n",
      "\n",
      "    accuracy                           0.97       493\n",
      "   macro avg       0.94      0.95      0.94       493\n",
      "weighted avg       0.97      0.97      0.97       493\n",
      "\n"
     ]
    },
    {
     "data": {
      "image/png": "[encoded data removed]",
      "text/plain": [
       "<Figure size 640x480 with 2 Axes>"
      ]
     },
     "metadata": {},
     "output_type": "display_data"
    },
    {
     "name": "stdout",
     "output_type": "stream",
     "text": [
      "Accuracy on test set of the model RandomForestClassifier: 0.9516\n",
      "Log Loss on test set of the model RandomForestClassifier: 0.3996\n",
      "Precision on test set of the model RandomForestClassifier: 0.9048\n",
      "Recall on test set of the model RandomForestClassifier: 0.8261\n",
      "F1 on test set of the model RandomForestClassifier: 0.8636\n",
      "AUC on test set of the model RandomForestClassifier: 0.9031\n",
      "\n",
      "              precision    recall  f1-score   support\n",
      "\n",
      "           0       0.96      0.98      0.97       101\n",
      "           1       0.90      0.83      0.86        23\n",
      "\n",
      "    accuracy                           0.95       124\n",
      "   macro avg       0.93      0.90      0.92       124\n",
      "weighted avg       0.95      0.95      0.95       124\n",
      "\n"
     ]
    }
   ],
   "source": [
    "rfc_result_train = evaluate_model(rfc, plot_cmat=True)\n",
    "rfc_result_test = evaluate_model(rfc, plot_cmat=True, on = \"test\")"
   ]
  },
  {
   "attachments": {
    "0f447846-9f17-4fdc-86fb-5c5112a4a012.png": {
     "image/png": "[encoded data removed]"
    }
   },
   "cell_type": "markdown",
   "id": "c5955803",
   "metadata": {
    "papermill": {
     "duration": 0.022211,
     "end_time": "2023-07-09T04:45:43.839535",
     "exception": false,
     "start_time": "2023-07-09T04:45:43.817324",
     "status": "completed"
    },
    "tags": []
   },
   "source": [
    "![download.png](attachment:0f447846-9f17-4fdc-86fb-5c5112a4a012.png)## Catboost"
   ]
  },
  {
   "cell_type": "code",
   "execution_count": 28,
   "id": "00b61864",
   "metadata": {
    "execution": {
     "iopub.execute_input": "2023-07-09T04:45:43.885847Z",
     "iopub.status.busy": "2023-07-09T04:45:43.885443Z",
     "iopub.status.idle": "2023-07-09T04:45:44.833262Z",
     "shell.execute_reply": "2023-07-09T04:45:44.832060Z"
    },
    "papermill": {
     "duration": 0.973685,
     "end_time": "2023-07-09T04:45:44.835506",
     "exception": false,
     "start_time": "2023-07-09T04:45:43.861821",
     "status": "completed"
    },
    "tags": []
   },
   "outputs": [
    {
     "data": {
      "image/png": "[encoded data removed]",
      "text/plain": [
       "<Figure size 640x480 with 2 Axes>"
      ]
     },
     "metadata": {},
     "output_type": "display_data"
    },
    {
     "name": "stdout",
     "output_type": "stream",
     "text": [
      "Accuracy on train set of the model CatBoostClassifier: 0.9615\n",
      "Log Loss on train set of the model CatBoostClassifier: 0.1758\n",
      "Precision on train set of the model CatBoostClassifier: 0.8367\n",
      "Recall on train set of the model CatBoostClassifier: 0.9647\n",
      "F1 on train set of the model CatBoostClassifier: 0.8962\n",
      "AUC on train set of the model CatBoostClassifier: 0.9627\n",
      "\n",
      "              precision    recall  f1-score   support\n",
      "\n",
      "           0       0.99      0.96      0.98       408\n",
      "           1       0.84      0.96      0.90        85\n",
      "\n",
      "    accuracy                           0.96       493\n",
      "   macro avg       0.91      0.96      0.94       493\n",
      "weighted avg       0.97      0.96      0.96       493\n",
      "\n"
     ]
    },
    {
     "data": {
      "image/png": "[encoded data removed]",
      "text/plain": [
       "<Figure size 640x480 with 2 Axes>"
      ]
     },
     "metadata": {},
     "output_type": "display_data"
    },
    {
     "name": "stdout",
     "output_type": "stream",
     "text": [
      "Accuracy on test set of the model CatBoostClassifier: 0.9274\n",
      "Log Loss on test set of the model CatBoostClassifier: 0.2855\n",
      "Precision on test set of the model CatBoostClassifier: 0.7692\n",
      "Recall on test set of the model CatBoostClassifier: 0.8696\n",
      "F1 on test set of the model CatBoostClassifier: 0.8163\n",
      "AUC on test set of the model CatBoostClassifier: 0.9051\n",
      "\n",
      "              precision    recall  f1-score   support\n",
      "\n",
      "           0       0.97      0.94      0.95       101\n",
      "           1       0.77      0.87      0.82        23\n",
      "\n",
      "    accuracy                           0.93       124\n",
      "   macro avg       0.87      0.91      0.89       124\n",
      "weighted avg       0.93      0.93      0.93       124\n",
      "\n"
     ]
    }
   ],
   "source": [
    "catc = CatBoostClassifier(random_state=RANDOM_SEED, verbose = 0, **cat_best_params)\n",
    "catc.fit(X_train, y_train)\n",
    "catc_result_train = evaluate_model(catc, plot_cmat=True)\n",
    "catc_result_test = evaluate_model(catc, plot_cmat=True, on = \"test\")"
   ]
  },
  {
   "cell_type": "markdown",
   "id": "ccdfe2aa",
   "metadata": {
    "papermill": {
     "duration": 0.023313,
     "end_time": "2023-07-09T04:45:44.881646",
     "exception": false,
     "start_time": "2023-07-09T04:45:44.858333",
     "status": "completed"
    },
    "tags": []
   },
   "source": [
    "## XGBoost"
   ]
  },
  {
   "cell_type": "code",
   "execution_count": 29,
   "id": "a6431b9f",
   "metadata": {
    "execution": {
     "iopub.execute_input": "2023-07-09T04:45:44.929919Z",
     "iopub.status.busy": "2023-07-09T04:45:44.928436Z",
     "iopub.status.idle": "2023-07-09T04:45:45.796559Z",
     "shell.execute_reply": "2023-07-09T04:45:45.795655Z"
    },
    "papermill": {
     "duration": 0.894537,
     "end_time": "2023-07-09T04:45:45.798785",
     "exception": false,
     "start_time": "2023-07-09T04:45:44.904248",
     "status": "completed"
    },
    "tags": []
   },
   "outputs": [
    {
     "data": {
      "image/png": "[encoded data removed]",
      "text/plain": [
       "<Figure size 640x480 with 2 Axes>"
      ]
     },
     "metadata": {},
     "output_type": "display_data"
    },
    {
     "name": "stdout",
     "output_type": "stream",
     "text": [
      "Accuracy on train set of the model XGBClassifier: 0.9919\n",
      "Log Loss on train set of the model XGBClassifier: 0.1020\n",
      "Precision on train set of the model XGBClassifier: 0.9551\n",
      "Recall on train set of the model XGBClassifier: 1.0000\n",
      "F1 on train set of the model XGBClassifier: 0.9770\n",
      "AUC on train set of the model XGBClassifier: 0.9951\n",
      "\n",
      "              precision    recall  f1-score   support\n",
      "\n",
      "           0       1.00      0.99      1.00       408\n",
      "           1       0.96      1.00      0.98        85\n",
      "\n",
      "    accuracy                           0.99       493\n",
      "   macro avg       0.98      1.00      0.99       493\n",
      "weighted avg       0.99      0.99      0.99       493\n",
      "\n"
     ]
    },
    {
     "data": {
      "image/png": "[encoded data removed]",
      "text/plain": [
       "<Figure size 640x480 with 2 Axes>"
      ]
     },
     "metadata": {},
     "output_type": "display_data"
    },
    {
     "name": "stdout",
     "output_type": "stream",
     "text": [
      "Accuracy on test set of the model XGBClassifier: 0.9516\n",
      "Log Loss on test set of the model XGBClassifier: 0.2479\n",
      "Precision on test set of the model XGBClassifier: 0.8400\n",
      "Recall on test set of the model XGBClassifier: 0.9130\n",
      "F1 on test set of the model XGBClassifier: 0.8750\n",
      "AUC on test set of the model XGBClassifier: 0.9367\n",
      "\n",
      "              precision    recall  f1-score   support\n",
      "\n",
      "           0       0.98      0.96      0.97       101\n",
      "           1       0.84      0.91      0.87        23\n",
      "\n",
      "    accuracy                           0.95       124\n",
      "   macro avg       0.91      0.94      0.92       124\n",
      "weighted avg       0.95      0.95      0.95       124\n",
      "\n"
     ]
    }
   ],
   "source": [
    "xgbc = XGBClassifier(random_state=RANDOM_SEED, **xgb_best_params)\n",
    "xgbc.fit(X_train, y_train)\n",
    "xgbc_result_train = evaluate_model(xgbc, plot_cmat=True)\n",
    "xgbc_result_test = evaluate_model(xgbc, plot_cmat=True, on = \"test\")"
   ]
  },
  {
   "cell_type": "markdown",
   "id": "a43c9f48",
   "metadata": {
    "papermill": {
     "duration": 0.023385,
     "end_time": "2023-07-09T04:45:45.846162",
     "exception": false,
     "start_time": "2023-07-09T04:45:45.822777",
     "status": "completed"
    },
    "tags": []
   },
   "source": [
    "# Ensemble"
   ]
  },
  {
   "cell_type": "code",
   "execution_count": 30,
   "id": "b97352a9",
   "metadata": {
    "execution": {
     "iopub.execute_input": "2023-07-09T04:45:45.896714Z",
     "iopub.status.busy": "2023-07-09T04:45:45.896032Z",
     "iopub.status.idle": "2023-07-09T04:45:45.905853Z",
     "shell.execute_reply": "2023-07-09T04:45:45.904549Z"
    },
    "papermill": {
     "duration": 0.038757,
     "end_time": "2023-07-09T04:45:45.908639",
     "exception": false,
     "start_time": "2023-07-09T04:45:45.869882",
     "status": "completed"
    },
    "tags": []
   },
   "outputs": [],
   "source": [
    "def evaluate_ensemble(models, X, y, voting=\"soft\"):\n",
    "    \"\"\"Evaluates an ensemble of models on a given dataset.\n",
    "\n",
    "    Parameters\n",
    "    ----------\n",
    "    models : list of models\n",
    "        The list of models to evaluate.\n",
    "    X : array-like of shape (n_samples, n_features)\n",
    "        The input samples.\n",
    "    y : array-like of shape (n_samples,)\n",
    "        The target values.\n",
    "    voting : str, default=\"soft\"\n",
    "        The type of voting to use. Can be either \"soft\" or \"hard\".\n",
    "\n",
    "    Returns\n",
    "    -------\n",
    "    preds : ndarray of shape (n_samples,)\n",
    "        The ensemble predictions.\n",
    "    \"\"\"\n",
    "    # Initialize an array to store the predictions for each model\n",
    "    preds = np.zeros((len(models), len(X)))\n",
    "\n",
    "    # Make predictions for each model\n",
    "    for i, model in tqdm(enumerate(models), \"Predicting...\"):\n",
    "        if voting == \"soft\":\n",
    "            preds[i] = model.predict_proba(X)[:, 1]\n",
    "        else:\n",
    "            preds[i] = model.predict(X)\n",
    "\n",
    "    # Compute the ensemble prediction based on the voting type\n",
    "    preds = np.round(np.mean(preds, axis=0))\n",
    "\n",
    "    # Compute the accuracy of the ensemble prediction\n",
    "    acc = np.mean(preds == y)\n",
    "    cr = classification_report(y, preds)\n",
    "    cm = confusion_matrix(y, preds)\n",
    "    print(f\"Accuracy of the ensemble: {acc:.4f}\")\n",
    "    print(cr)\n",
    "    disp = ConfusionMatrixDisplay(\n",
    "            confusion_matrix=cm, display_labels=[\"1\", \"0\"]\n",
    "        )\n",
    "    disp.plot()\n",
    "    plt.show()\n",
    "\n",
    "    return preds, acc"
   ]
  },
  {
   "cell_type": "code",
   "execution_count": 31,
   "id": "9596d08d",
   "metadata": {
    "execution": {
     "iopub.execute_input": "2023-07-09T04:45:45.958736Z",
     "iopub.status.busy": "2023-07-09T04:45:45.958056Z",
     "iopub.status.idle": "2023-07-09T04:45:45.962463Z",
     "shell.execute_reply": "2023-07-09T04:45:45.961464Z"
    },
    "papermill": {
     "duration": 0.032093,
     "end_time": "2023-07-09T04:45:45.964988",
     "exception": false,
     "start_time": "2023-07-09T04:45:45.932895",
     "status": "completed"
    },
    "tags": []
   },
   "outputs": [],
   "source": [
    "from sklearn.tree import DecisionTreeClassifier"
   ]
  },
  {
   "cell_type": "code",
   "execution_count": 32,
   "id": "ce9efb05",
   "metadata": {
    "execution": {
     "iopub.execute_input": "2023-07-09T04:45:46.016739Z",
     "iopub.status.busy": "2023-07-09T04:45:46.016328Z",
     "iopub.status.idle": "2023-07-09T04:45:47.443940Z",
     "shell.execute_reply": "2023-07-09T04:45:47.442850Z"
    },
    "papermill": {
     "duration": 1.457845,
     "end_time": "2023-07-09T04:45:47.446950",
     "exception": false,
     "start_time": "2023-07-09T04:45:45.989105",
     "status": "completed"
    },
    "tags": []
   },
   "outputs": [],
   "source": [
    "# create the EnsembleVoteClassifier object, giving the class_weight parameter\n",
    "dtc = DecisionTreeClassifier(\n",
    "    class_weight=\"balanced\",\n",
    "    criterion=\"gini\",\n",
    "    max_depth=2,\n",
    "    max_features=\"log2\",\n",
    "    min_samples_leaf=10,\n",
    "    min_samples_split=10,\n",
    "    splitter=\"random\",\n",
    ")\n",
    "\n",
    "rfc = RandomForestClassifier(\n",
    "    class_weight=\"balanced\",\n",
    "    criterion=\"gini\",\n",
    "    max_depth=30,\n",
    "    min_samples_leaf=14,\n",
    "    min_samples_split=12,\n",
    "    n_estimators=400,\n",
    ")\n",
    "\n",
    "xgbc = XGBClassifier(\n",
    "    scale_pos_weight=7,\n",
    "    max_depth=3,\n",
    "    n_estimators=4,\n",
    "    min_child_weight=15,\n",
    ")\n",
    "\n",
    "catc = CatBoostClassifier(\n",
    "    class_weights=[1, 7],\n",
    "    l2_leaf_reg=5,\n",
    "    learning_rate=0.05,\n",
    "    max_depth=3,\n",
    "    n_estimators=40,\n",
    "    verbose = False,\n",
    ")\n",
    "\n",
    "\n",
    "models = [\n",
    "          dtc, \n",
    "          rfc, \n",
    "          catc, \n",
    "          xgbc\n",
    "         ]\n",
    "for model in models:\n",
    "    model.fit(X_train, y_train)\n",
    "\n",
    "# vc.fit(X_train, y_train)"
   ]
  },
  {
   "cell_type": "code",
   "execution_count": 33,
   "id": "e901c004",
   "metadata": {
    "execution": {
     "iopub.execute_input": "2023-07-09T04:45:47.498585Z",
     "iopub.status.busy": "2023-07-09T04:45:47.498175Z",
     "iopub.status.idle": "2023-07-09T04:45:48.962519Z",
     "shell.execute_reply": "2023-07-09T04:45:48.961348Z"
    },
    "papermill": {
     "duration": 1.492455,
     "end_time": "2023-07-09T04:45:48.964857",
     "exception": false,
     "start_time": "2023-07-09T04:45:47.472402",
     "status": "completed"
    },
    "tags": []
   },
   "outputs": [
    {
     "data": {
      "text/html": [
       "<style>#sk-container-id-4 {color: black;background-color: white;}#sk-container-id-4 pre{padding: 0;}#sk-container-id-4 div.sk-toggleable {background-color: white;}#sk-container-id-4 label.sk-toggleable__label {cursor: pointer;display: block;width: 100%;margin-bottom: 0;padding: 0.3em;box-sizing: border-box;text-align: center;}#sk-container-id-4 label.sk-toggleable__label-arrow:before {content: \"▸\";float: left;margin-right: 0.25em;color: #696969;}#sk-container-id-4 label.sk-toggleable__label-arrow:hover:before {color: black;}#sk-container-id-4 div.sk-estimator:hover label.sk-toggleable__label-arrow:before {color: black;}#sk-container-id-4 div.sk-toggleable__content {max-height: 0;max-width: 0;overflow: hidden;text-align: left;background-color: #f0f8ff;}#sk-container-id-4 div.sk-toggleable__content pre {margin: 0.2em;color: black;border-radius: 0.25em;background-color: #f0f8ff;}#sk-container-id-4 input.sk-toggleable__control:checked~div.sk-toggleable__content {max-height: 200px;max-width: 100%;overflow: auto;}#sk-container-id-4 input.sk-toggleable__control:checked~label.sk-toggleable__label-arrow:before {content: \"▾\";}#sk-container-id-4 div.sk-estimator input.sk-toggleable__control:checked~label.sk-toggleable__label {background-color: #d4ebff;}#sk-container-id-4 div.sk-label input.sk-toggleable__control:checked~label.sk-toggleable__label {background-color: #d4ebff;}#sk-container-id-4 input.sk-hidden--visually {border: 0;clip: rect(1px 1px 1px 1px);clip: rect(1px, 1px, 1px, 1px);height: 1px;margin: -1px;overflow: hidden;padding: 0;position: absolute;width: 1px;}#sk-container-id-4 div.sk-estimator {font-family: monospace;background-color: #f0f8ff;border: 1px dotted black;border-radius: 0.25em;box-sizing: border-box;margin-bottom: 0.5em;}#sk-container-id-4 div.sk-estimator:hover {background-color: #d4ebff;}#sk-container-id-4 div.sk-parallel-item::after {content: \"\";width: 100%;border-bottom: 1px solid gray;flex-grow: 1;}#sk-container-id-4 div.sk-label:hover label.sk-toggleable__label {background-color: #d4ebff;}#sk-container-id-4 div.sk-serial::before {content: \"\";position: absolute;border-left: 1px solid gray;box-sizing: border-box;top: 0;bottom: 0;left: 50%;z-index: 0;}#sk-container-id-4 div.sk-serial {display: flex;flex-direction: column;align-items: center;background-color: white;padding-right: 0.2em;padding-left: 0.2em;position: relative;}#sk-container-id-4 div.sk-item {position: relative;z-index: 1;}#sk-container-id-4 div.sk-parallel {display: flex;align-items: stretch;justify-content: center;background-color: white;position: relative;}#sk-container-id-4 div.sk-item::before, #sk-container-id-4 div.sk-parallel-item::before {content: \"\";position: absolute;border-left: 1px solid gray;box-sizing: border-box;top: 0;bottom: 0;left: 50%;z-index: -1;}#sk-container-id-4 div.sk-parallel-item {display: flex;flex-direction: column;z-index: 1;position: relative;background-color: white;}#sk-container-id-4 div.sk-parallel-item:first-child::after {align-self: flex-end;width: 50%;}#sk-container-id-4 div.sk-parallel-item:last-child::after {align-self: flex-start;width: 50%;}#sk-container-id-4 div.sk-parallel-item:only-child::after {width: 0;}#sk-container-id-4 div.sk-dashed-wrapped {border: 1px dashed gray;margin: 0 0.4em 0.5em 0.4em;box-sizing: border-box;padding-bottom: 0.4em;background-color: white;}#sk-container-id-4 div.sk-label label {font-family: monospace;font-weight: bold;display: inline-block;line-height: 1.2em;}#sk-container-id-4 div.sk-label-container {text-align: center;}#sk-container-id-4 div.sk-container {/* jupyter's `normalize.less` sets `[hidden] { display: none; }` but bootstrap.min.css set `[hidden] { display: none !important; }` so we also need the `!important` here to be able to override the default hidden behavior on the sphinx rendered scikit-learn.org. See: https://github.com/scikit-learn/scikit-learn/issues/21755 */display: inline-block !important;position: relative;}#sk-container-id-4 div.sk-text-repr-fallback {display: none;}</style><div id=\"sk-container-id-4\" class=\"sk-top-container\"><div class=\"sk-text-repr-fallback\"><pre>VotingClassifier(estimators=[(&#x27;xgbc&#x27;,\n",
       "                              XGBClassifier(base_score=None, booster=None,\n",
       "                                            callbacks=None,\n",
       "                                            colsample_bylevel=None,\n",
       "                                            colsample_bynode=None,\n",
       "                                            colsample_bytree=None,\n",
       "                                            early_stopping_rounds=None,\n",
       "                                            enable_categorical=False,\n",
       "                                            eval_metric=None,\n",
       "                                            feature_types=None, gamma=None,\n",
       "                                            gpu_id=None, grow_policy=None,\n",
       "                                            importance_type=None,\n",
       "                                            interaction_constraints=None,\n",
       "                                            learning_r...\n",
       "                              RandomForestClassifier(class_weight=&#x27;balanced&#x27;,\n",
       "                                                     max_depth=30,\n",
       "                                                     min_samples_leaf=14,\n",
       "                                                     min_samples_split=12,\n",
       "                                                     n_estimators=400)),\n",
       "                             (&#x27;catc&#x27;,\n",
       "                              &lt;catboost.core.CatBoostClassifier object at 0x7ab9e8501fc0&gt;),\n",
       "                             (&#x27;dtc&#x27;,\n",
       "                              DecisionTreeClassifier(class_weight=&#x27;balanced&#x27;,\n",
       "                                                     max_depth=2,\n",
       "                                                     max_features=&#x27;log2&#x27;,\n",
       "                                                     min_samples_leaf=10,\n",
       "                                                     min_samples_split=10,\n",
       "                                                     splitter=&#x27;random&#x27;))],\n",
       "                 voting=&#x27;soft&#x27;, weights=[3, 2, 2.2, 1])</pre><b>In a Jupyter environment, please rerun this cell to show the HTML representation or trust the notebook. <br />On GitHub, the HTML representation is unable to render, please try loading this page with nbviewer.org.</b></div><div class=\"sk-container\" hidden><div class=\"sk-item sk-dashed-wrapped\"><div class=\"sk-label-container\"><div class=\"sk-label sk-toggleable\"><input class=\"sk-toggleable__control sk-hidden--visually\" id=\"sk-estimator-id-24\" type=\"checkbox\" ><label for=\"sk-estimator-id-24\" class=\"sk-toggleable__label sk-toggleable__label-arrow\">VotingClassifier</label><div class=\"sk-toggleable__content\"><pre>VotingClassifier(estimators=[(&#x27;xgbc&#x27;,\n",
       "                              XGBClassifier(base_score=None, booster=None,\n",
       "                                            callbacks=None,\n",
       "                                            colsample_bylevel=None,\n",
       "                                            colsample_bynode=None,\n",
       "                                            colsample_bytree=None,\n",
       "                                            early_stopping_rounds=None,\n",
       "                                            enable_categorical=False,\n",
       "                                            eval_metric=None,\n",
       "                                            feature_types=None, gamma=None,\n",
       "                                            gpu_id=None, grow_policy=None,\n",
       "                                            importance_type=None,\n",
       "                                            interaction_constraints=None,\n",
       "                                            learning_r...\n",
       "                              RandomForestClassifier(class_weight=&#x27;balanced&#x27;,\n",
       "                                                     max_depth=30,\n",
       "                                                     min_samples_leaf=14,\n",
       "                                                     min_samples_split=12,\n",
       "                                                     n_estimators=400)),\n",
       "                             (&#x27;catc&#x27;,\n",
       "                              &lt;catboost.core.CatBoostClassifier object at 0x7ab9e8501fc0&gt;),\n",
       "                             (&#x27;dtc&#x27;,\n",
       "                              DecisionTreeClassifier(class_weight=&#x27;balanced&#x27;,\n",
       "                                                     max_depth=2,\n",
       "                                                     max_features=&#x27;log2&#x27;,\n",
       "                                                     min_samples_leaf=10,\n",
       "                                                     min_samples_split=10,\n",
       "                                                     splitter=&#x27;random&#x27;))],\n",
       "                 voting=&#x27;soft&#x27;, weights=[3, 2, 2.2, 1])</pre></div></div></div><div class=\"sk-parallel\"><div class=\"sk-parallel-item\"><div class=\"sk-item\"><div class=\"sk-label-container\"><div class=\"sk-label sk-toggleable\"><label>xgbc</label></div></div><div class=\"sk-serial\"><div class=\"sk-item\"><div class=\"sk-estimator sk-toggleable\"><input class=\"sk-toggleable__control sk-hidden--visually\" id=\"sk-estimator-id-25\" type=\"checkbox\" ><label for=\"sk-estimator-id-25\" class=\"sk-toggleable__label sk-toggleable__label-arrow\">XGBClassifier</label><div class=\"sk-toggleable__content\"><pre>XGBClassifier(base_score=None, booster=None, callbacks=None,\n",
       "              colsample_bylevel=None, colsample_bynode=None,\n",
       "              colsample_bytree=None, early_stopping_rounds=None,\n",
       "              enable_categorical=False, eval_metric=None, feature_types=None,\n",
       "              gamma=None, gpu_id=None, grow_policy=None, importance_type=None,\n",
       "              interaction_constraints=None, learning_rate=None, max_bin=None,\n",
       "              max_cat_threshold=None, max_cat_to_onehot=None,\n",
       "              max_delta_step=None, max_depth=3, max_leaves=None,\n",
       "              min_child_weight=15, missing=nan, monotone_constraints=None,\n",
       "              n_estimators=4, n_jobs=None, num_parallel_tree=None,\n",
       "              predictor=None, random_state=None, ...)</pre></div></div></div></div></div></div><div class=\"sk-parallel-item\"><div class=\"sk-item\"><div class=\"sk-label-container\"><div class=\"sk-label sk-toggleable\"><label>rfc</label></div></div><div class=\"sk-serial\"><div class=\"sk-item\"><div class=\"sk-estimator sk-toggleable\"><input class=\"sk-toggleable__control sk-hidden--visually\" id=\"sk-estimator-id-26\" type=\"checkbox\" ><label for=\"sk-estimator-id-26\" class=\"sk-toggleable__label sk-toggleable__label-arrow\">RandomForestClassifier</label><div class=\"sk-toggleable__content\"><pre>RandomForestClassifier(class_weight=&#x27;balanced&#x27;, max_depth=30,\n",
       "                       min_samples_leaf=14, min_samples_split=12,\n",
       "                       n_estimators=400)</pre></div></div></div></div></div></div><div class=\"sk-parallel-item\"><div class=\"sk-item\"><div class=\"sk-label-container\"><div class=\"sk-label sk-toggleable\"><label>catc</label></div></div><div class=\"sk-serial\"><div class=\"sk-item\"><div class=\"sk-estimator sk-toggleable\"><input class=\"sk-toggleable__control sk-hidden--visually\" id=\"sk-estimator-id-27\" type=\"checkbox\" ><label for=\"sk-estimator-id-27\" class=\"sk-toggleable__label sk-toggleable__label-arrow\">CatBoostClassifier</label><div class=\"sk-toggleable__content\"><pre>&lt;catboost.core.CatBoostClassifier object at 0x7ab9e8501fc0&gt;</pre></div></div></div></div></div></div><div class=\"sk-parallel-item\"><div class=\"sk-item\"><div class=\"sk-label-container\"><div class=\"sk-label sk-toggleable\"><label>dtc</label></div></div><div class=\"sk-serial\"><div class=\"sk-item\"><div class=\"sk-estimator sk-toggleable\"><input class=\"sk-toggleable__control sk-hidden--visually\" id=\"sk-estimator-id-28\" type=\"checkbox\" ><label for=\"sk-estimator-id-28\" class=\"sk-toggleable__label sk-toggleable__label-arrow\">DecisionTreeClassifier</label><div class=\"sk-toggleable__content\"><pre>DecisionTreeClassifier(class_weight=&#x27;balanced&#x27;, max_depth=2,\n",
       "                       max_features=&#x27;log2&#x27;, min_samples_leaf=10,\n",
       "                       min_samples_split=10, splitter=&#x27;random&#x27;)</pre></div></div></div></div></div></div></div></div></div></div>"
      ],
      "text/plain": [
       "VotingClassifier(estimators=[('xgbc',\n",
       "                              XGBClassifier(base_score=None, booster=None,\n",
       "                                            callbacks=None,\n",
       "                                            colsample_bylevel=None,\n",
       "                                            colsample_bynode=None,\n",
       "                                            colsample_bytree=None,\n",
       "                                            early_stopping_rounds=None,\n",
       "                                            enable_categorical=False,\n",
       "                                            eval_metric=None,\n",
       "                                            feature_types=None, gamma=None,\n",
       "                                            gpu_id=None, grow_policy=None,\n",
       "                                            importance_type=None,\n",
       "                                            interaction_constraints=None,\n",
       "                                            learning_r...\n",
       "                              RandomForestClassifier(class_weight='balanced',\n",
       "                                                     max_depth=30,\n",
       "                                                     min_samples_leaf=14,\n",
       "                                                     min_samples_split=12,\n",
       "                                                     n_estimators=400)),\n",
       "                             ('catc',\n",
       "                              <catboost.core.CatBoostClassifier object at 0x7ab9e8501fc0>),\n",
       "                             ('dtc',\n",
       "                              DecisionTreeClassifier(class_weight='balanced',\n",
       "                                                     max_depth=2,\n",
       "                                                     max_features='log2',\n",
       "                                                     min_samples_leaf=10,\n",
       "                                                     min_samples_split=10,\n",
       "                                                     splitter='random'))],\n",
       "                 voting='soft', weights=[3, 2, 2.2, 1])"
      ]
     },
     "execution_count": 33,
     "metadata": {},
     "output_type": "execute_result"
    }
   ],
   "source": [
    "vc = VotingClassifier(\n",
    "    estimators=[\n",
    "        (\"xgbc\", xgbc),\n",
    "        (\"rfc\", rfc),\n",
    "        (\"catc\", catc),\n",
    "        (\"dtc\", dtc),\n",
    "    ],\n",
    "    voting=\"soft\",\n",
    "    weights=[3, 2, 2.2, 1],\n",
    ")\n",
    "vc.fit(X_train, y_train)"
   ]
  },
  {
   "cell_type": "code",
   "execution_count": 34,
   "id": "07cc7a1c",
   "metadata": {
    "execution": {
     "iopub.execute_input": "2023-07-09T04:45:49.031003Z",
     "iopub.status.busy": "2023-07-09T04:45:49.027264Z",
     "iopub.status.idle": "2023-07-09T04:45:49.535034Z",
     "shell.execute_reply": "2023-07-09T04:45:49.533863Z"
    },
    "papermill": {
     "duration": 0.543763,
     "end_time": "2023-07-09T04:45:49.537330",
     "exception": false,
     "start_time": "2023-07-09T04:45:48.993567",
     "status": "completed"
    },
    "tags": []
   },
   "outputs": [
    {
     "data": {
      "image/png": "[encoded data removed]",
      "text/plain": [
       "<Figure size 640x480 with 2 Axes>"
      ]
     },
     "metadata": {},
     "output_type": "display_data"
    },
    {
     "name": "stdout",
     "output_type": "stream",
     "text": [
      "Accuracy on train set of the model VotingClassifier: 0.9108\n",
      "Log Loss on train set of the model VotingClassifier: 0.3489\n",
      "Precision on train set of the model VotingClassifier: 0.6723\n",
      "Recall on train set of the model VotingClassifier: 0.9412\n",
      "F1 on train set of the model VotingClassifier: 0.7843\n",
      "AUC on train set of the model VotingClassifier: 0.9228\n",
      "\n",
      "              precision    recall  f1-score   support\n",
      "\n",
      "           0       0.99      0.90      0.94       408\n",
      "           1       0.67      0.94      0.78        85\n",
      "\n",
      "    accuracy                           0.91       493\n",
      "   macro avg       0.83      0.92      0.86       493\n",
      "weighted avg       0.93      0.91      0.92       493\n",
      "\n"
     ]
    },
    {
     "data": {
      "text/plain": [
       "{'accuracy': 0.9107505070993914,\n",
       " 'log_loss': 0.34890472944889434,\n",
       " 'precision': 0.6722689075630253,\n",
       " 'recall': 0.9411764705882353,\n",
       " 'f1': 0.7843137254901961,\n",
       " 'auc': 0.9227941176470589}"
      ]
     },
     "execution_count": 34,
     "metadata": {},
     "output_type": "execute_result"
    }
   ],
   "source": [
    "evaluate_model(vc, \"train\", True)"
   ]
  },
  {
   "cell_type": "code",
   "execution_count": 35,
   "id": "461db9e6",
   "metadata": {
    "execution": {
     "iopub.execute_input": "2023-07-09T04:45:49.589849Z",
     "iopub.status.busy": "2023-07-09T04:45:49.589437Z",
     "iopub.status.idle": "2023-07-09T04:45:50.012209Z",
     "shell.execute_reply": "2023-07-09T04:45:50.010833Z"
    },
    "papermill": {
     "duration": 0.452107,
     "end_time": "2023-07-09T04:45:50.014947",
     "exception": false,
     "start_time": "2023-07-09T04:45:49.562840",
     "status": "completed"
    },
    "tags": []
   },
   "outputs": [
    {
     "data": {
      "image/png": "[encoded data removed]",
      "text/plain": [
       "<Figure size 640x480 with 2 Axes>"
      ]
     },
     "metadata": {},
     "output_type": "display_data"
    },
    {
     "name": "stdout",
     "output_type": "stream",
     "text": [
      "Accuracy on test set of the model VotingClassifier: 0.8710\n",
      "Log Loss on test set of the model VotingClassifier: 0.4017\n",
      "Precision on test set of the model VotingClassifier: 0.6000\n",
      "Recall on test set of the model VotingClassifier: 0.9130\n",
      "F1 on test set of the model VotingClassifier: 0.7241\n",
      "AUC on test set of the model VotingClassifier: 0.8872\n",
      "\n",
      "              precision    recall  f1-score   support\n",
      "\n",
      "           0       0.98      0.86      0.92       101\n",
      "           1       0.60      0.91      0.72        23\n",
      "\n",
      "    accuracy                           0.87       124\n",
      "   macro avg       0.79      0.89      0.82       124\n",
      "weighted avg       0.91      0.87      0.88       124\n",
      "\n"
     ]
    },
    {
     "data": {
      "text/plain": [
       "{'accuracy': 0.8709677419354839,\n",
       " 'log_loss': 0.4017111630107615,\n",
       " 'precision': 0.6,\n",
       " 'recall': 0.9130434782608695,\n",
       " 'f1': 0.7241379310344828,\n",
       " 'auc': 0.8872148084373654}"
      ]
     },
     "execution_count": 35,
     "metadata": {},
     "output_type": "execute_result"
    }
   ],
   "source": [
    "evaluate_model(vc, \"test\", True)"
   ]
  },
  {
   "cell_type": "code",
   "execution_count": 36,
   "id": "c087d4e0",
   "metadata": {
    "execution": {
     "iopub.execute_input": "2023-07-09T04:45:50.068933Z",
     "iopub.status.busy": "2023-07-09T04:45:50.068501Z",
     "iopub.status.idle": "2023-07-09T04:45:50.480465Z",
     "shell.execute_reply": "2023-07-09T04:45:50.479304Z"
    },
    "papermill": {
     "duration": 0.442029,
     "end_time": "2023-07-09T04:45:50.483203",
     "exception": false,
     "start_time": "2023-07-09T04:45:50.041174",
     "status": "completed"
    },
    "tags": []
   },
   "outputs": [
    {
     "name": "stderr",
     "output_type": "stream",
     "text": [
      "Predicting...: 4it [00:00, 42.38it/s]"
     ]
    },
    {
     "name": "stdout",
     "output_type": "stream",
     "text": [
      "Accuracy of the ensemble: 0.9168\n",
      "              precision    recall  f1-score   support\n",
      "\n",
      "           0       0.99      0.91      0.95       408\n",
      "           1       0.68      0.96      0.80        85\n",
      "\n",
      "    accuracy                           0.92       493\n",
      "   macro avg       0.84      0.94      0.87       493\n",
      "weighted avg       0.94      0.92      0.92       493\n",
      "\n"
     ]
    },
    {
     "name": "stderr",
     "output_type": "stream",
     "text": [
      "\n"
     ]
    },
    {
     "data": {
      "image/png": "[encoded data removed]",
      "text/plain": [
       "<Figure size 640x480 with 2 Axes>"
      ]
     },
     "metadata": {},
     "output_type": "display_data"
    },
    {
     "name": "stdout",
     "output_type": "stream",
     "text": [
      "Ensemble accuracy on train set: 91.68%\n"
     ]
    }
   ],
   "source": [
    "preds, acc = evaluate_ensemble(models, X_train, y_train)\n",
    "print(f\"Ensemble accuracy on train set: {acc:.2%}\")"
   ]
  },
  {
   "cell_type": "code",
   "execution_count": 37,
   "id": "e9efaeb8",
   "metadata": {
    "execution": {
     "iopub.execute_input": "2023-07-09T04:45:50.538570Z",
     "iopub.status.busy": "2023-07-09T04:45:50.537777Z",
     "iopub.status.idle": "2023-07-09T04:45:50.912905Z",
     "shell.execute_reply": "2023-07-09T04:45:50.911590Z"
    },
    "papermill": {
     "duration": 0.406238,
     "end_time": "2023-07-09T04:45:50.915909",
     "exception": false,
     "start_time": "2023-07-09T04:45:50.509671",
     "status": "completed"
    },
    "tags": []
   },
   "outputs": [
    {
     "name": "stderr",
     "output_type": "stream",
     "text": [
      "Predicting...: 4it [00:00, 62.26it/s]"
     ]
    },
    {
     "name": "stdout",
     "output_type": "stream",
     "text": [
      "Accuracy of the ensemble: 0.8710\n",
      "              precision    recall  f1-score   support\n",
      "\n",
      "           0       0.97      0.87      0.92       101\n",
      "           1       0.61      0.87      0.71        23\n",
      "\n",
      "    accuracy                           0.87       124\n",
      "   macro avg       0.79      0.87      0.82       124\n",
      "weighted avg       0.90      0.87      0.88       124\n",
      "\n"
     ]
    },
    {
     "name": "stderr",
     "output_type": "stream",
     "text": [
      "\n"
     ]
    },
    {
     "data": {
      "image/png": "[encoded data removed]",
      "text/plain": [
       "<Figure size 640x480 with 2 Axes>"
      ]
     },
     "metadata": {},
     "output_type": "display_data"
    }
   ],
   "source": [
    "preds, acc = evaluate_ensemble(models, X_test, y_test)"
   ]
  },
  {
   "cell_type": "code",
   "execution_count": 38,
   "id": "ad2fc4cf",
   "metadata": {
    "execution": {
     "iopub.execute_input": "2023-07-09T04:45:50.974878Z",
     "iopub.status.busy": "2023-07-09T04:45:50.974467Z",
     "iopub.status.idle": "2023-07-09T04:45:51.722538Z",
     "shell.execute_reply": "2023-07-09T04:45:51.721368Z"
    },
    "papermill": {
     "duration": 0.780531,
     "end_time": "2023-07-09T04:45:51.725070",
     "exception": false,
     "start_time": "2023-07-09T04:45:50.944539",
     "status": "completed"
    },
    "tags": []
   },
   "outputs": [
    {
     "name": "stderr",
     "output_type": "stream",
     "text": [
      "Predicting...: 4it [00:00, 42.25it/s]\n"
     ]
    },
    {
     "name": "stdout",
     "output_type": "stream",
     "text": [
      "Accuracy of the ensemble: 0.9189\n",
      "              precision    recall  f1-score   support\n",
      "\n",
      "           0       0.99      0.91      0.95       408\n",
      "           1       0.70      0.94      0.80        85\n",
      "\n",
      "    accuracy                           0.92       493\n",
      "   macro avg       0.84      0.93      0.87       493\n",
      "weighted avg       0.94      0.92      0.92       493\n",
      "\n"
     ]
    },
    {
     "data": {
      "image/png": "[encoded data removed]",
      "text/plain": [
       "<Figure size 640x480 with 2 Axes>"
      ]
     },
     "metadata": {},
     "output_type": "display_data"
    },
    {
     "name": "stdout",
     "output_type": "stream",
     "text": [
      "Ensemble accuracy on train set: 91.89%\n"
     ]
    },
    {
     "name": "stderr",
     "output_type": "stream",
     "text": [
      "Predicting...: 4it [00:00, 60.02it/s]"
     ]
    },
    {
     "name": "stdout",
     "output_type": "stream",
     "text": [
      "Accuracy of the ensemble: 0.8790\n",
      "              precision    recall  f1-score   support\n",
      "\n",
      "           0       0.96      0.89      0.92       101\n",
      "           1       0.63      0.83      0.72        23\n",
      "\n",
      "    accuracy                           0.88       124\n",
      "   macro avg       0.80      0.86      0.82       124\n",
      "weighted avg       0.90      0.88      0.88       124\n",
      "\n"
     ]
    },
    {
     "name": "stderr",
     "output_type": "stream",
     "text": [
      "\n"
     ]
    },
    {
     "data": {
      "image/png": "[encoded data removed]",
      "text/plain": [
       "<Figure size 640x480 with 2 Axes>"
      ]
     },
     "metadata": {},
     "output_type": "display_data"
    }
   ],
   "source": [
    "preds, acc = evaluate_ensemble(models, X_train, y_train, voting=\"hard\")\n",
    "print(f\"Ensemble accuracy on train set: {acc:.2%}\")\n",
    "preds, acc = evaluate_ensemble(models, X_test, y_test, voting=\"hard\")"
   ]
  },
  {
   "cell_type": "code",
   "execution_count": 39,
   "id": "bb77e423",
   "metadata": {
    "execution": {
     "iopub.execute_input": "2023-07-09T04:45:51.786419Z",
     "iopub.status.busy": "2023-07-09T04:45:51.785088Z",
     "iopub.status.idle": "2023-07-09T04:45:51.793283Z",
     "shell.execute_reply": "2023-07-09T04:45:51.792250Z"
    },
    "papermill": {
     "duration": 0.041408,
     "end_time": "2023-07-09T04:45:51.795951",
     "exception": false,
     "start_time": "2023-07-09T04:45:51.754543",
     "status": "completed"
    },
    "tags": []
   },
   "outputs": [],
   "source": [
    "def predict_ensemble(models, X):\n",
    "    \"\"\"Predicts the probability of the positive class for an ensemble of models.\n",
    "\n",
    "    Parameters\n",
    "    ----------\n",
    "    models : list of models\n",
    "        The list of models to evaluate.\n",
    "    X : array-like of shape (n_samples, n_features)\n",
    "        The input samples.\n",
    "    Returns\n",
    "    -------\n",
    "    preds : ndarray of shape (n_samples,2)\n",
    "        The ensemble predictions.\n",
    "    \"\"\"\n",
    "    # Initialize an array to store the predictions for each model\n",
    "    preds = np.zeros((len(models), len(X), 2))\n",
    "\n",
    "    # Make predictions for each model\n",
    "    for i, model in tqdm(enumerate(models), \"Predicting...\"):\n",
    "        preds[i] = model.predict_proba(X)\n",
    "    preds = np.mean(preds, axis=0)\n",
    "\n",
    "    return preds"
   ]
  },
  {
   "cell_type": "code",
   "execution_count": 40,
   "id": "ce30c621",
   "metadata": {
    "execution": {
     "iopub.execute_input": "2023-07-09T04:45:51.855646Z",
     "iopub.status.busy": "2023-07-09T04:45:51.855228Z",
     "iopub.status.idle": "2023-07-09T04:45:51.910647Z",
     "shell.execute_reply": "2023-07-09T04:45:51.909295Z"
    },
    "papermill": {
     "duration": 0.088658,
     "end_time": "2023-07-09T04:45:51.913509",
     "exception": false,
     "start_time": "2023-07-09T04:45:51.824851",
     "status": "completed"
    },
    "tags": []
   },
   "outputs": [],
   "source": [
    "# test_preds = predict_ensemble(models, test_final)\n",
    "test_preds = vc.predict_proba(test_final)"
   ]
  },
  {
   "cell_type": "code",
   "execution_count": 41,
   "id": "b7dff819",
   "metadata": {
    "execution": {
     "iopub.execute_input": "2023-07-09T04:45:51.975535Z",
     "iopub.status.busy": "2023-07-09T04:45:51.975107Z",
     "iopub.status.idle": "2023-07-09T04:45:52.010277Z",
     "shell.execute_reply": "2023-07-09T04:45:52.008625Z"
    },
    "papermill": {
     "duration": 0.069043,
     "end_time": "2023-07-09T04:45:52.013133",
     "exception": false,
     "start_time": "2023-07-09T04:45:51.944090",
     "status": "completed"
    },
    "tags": []
   },
   "outputs": [
    {
     "data": {
      "text/html": [
       "<div>\n",
       "<style scoped>\n",
       "    .dataframe tbody tr th:only-of-type {\n",
       "        vertical-align: middle;\n",
       "    }\n",
       "\n",
       "    .dataframe tbody tr th {\n",
       "        vertical-align: top;\n",
       "    }\n",
       "\n",
       "    .dataframe thead th {\n",
       "        text-align: right;\n",
       "    }\n",
       "</style>\n",
       "<table border=\"1\" class=\"dataframe\">\n",
       "  <thead>\n",
       "    <tr style=\"text-align: right;\">\n",
       "      <th></th>\n",
       "      <th>Id</th>\n",
       "      <th>class_0</th>\n",
       "      <th>class_1</th>\n",
       "    </tr>\n",
       "  </thead>\n",
       "  <tbody>\n",
       "    <tr>\n",
       "      <th>0</th>\n",
       "      <td>00eed32682bb</td>\n",
       "      <td>0.841378</td>\n",
       "      <td>0.158622</td>\n",
       "    </tr>\n",
       "    <tr>\n",
       "      <th>1</th>\n",
       "      <td>010ebe33f668</td>\n",
       "      <td>0.841378</td>\n",
       "      <td>0.158622</td>\n",
       "    </tr>\n",
       "    <tr>\n",
       "      <th>2</th>\n",
       "      <td>02fa521e1838</td>\n",
       "      <td>0.841378</td>\n",
       "      <td>0.158622</td>\n",
       "    </tr>\n",
       "    <tr>\n",
       "      <th>3</th>\n",
       "      <td>040e15f562a2</td>\n",
       "      <td>0.841378</td>\n",
       "      <td>0.158622</td>\n",
       "    </tr>\n",
       "    <tr>\n",
       "      <th>4</th>\n",
       "      <td>046e85c7cc7f</td>\n",
       "      <td>0.841378</td>\n",
       "      <td>0.158622</td>\n",
       "    </tr>\n",
       "  </tbody>\n",
       "</table>\n",
       "</div>"
      ],
      "text/plain": [
       "             Id   class_0   class_1\n",
       "0  00eed32682bb  0.841378  0.158622\n",
       "1  010ebe33f668  0.841378  0.158622\n",
       "2  02fa521e1838  0.841378  0.158622\n",
       "3  040e15f562a2  0.841378  0.158622\n",
       "4  046e85c7cc7f  0.841378  0.158622"
      ]
     },
     "execution_count": 41,
     "metadata": {},
     "output_type": "execute_result"
    }
   ],
   "source": [
    "sample_submission = pd.read_csv(\"/kaggle/input/icr-identify-age-related-conditions/sample_submission.csv\")\n",
    "sample_submission[[\"class_0\", \"class_1\"]] = test_preds\n",
    "sample_submission.head()"
   ]
  },
  {
   "cell_type": "code",
   "execution_count": 42,
   "id": "428da5dc",
   "metadata": {
    "execution": {
     "iopub.execute_input": "2023-07-09T04:45:52.076093Z",
     "iopub.status.busy": "2023-07-09T04:45:52.074646Z",
     "iopub.status.idle": "2023-07-09T04:45:52.087371Z",
     "shell.execute_reply": "2023-07-09T04:45:52.086167Z"
    },
    "papermill": {
     "duration": 0.047135,
     "end_time": "2023-07-09T04:45:52.090022",
     "exception": false,
     "start_time": "2023-07-09T04:45:52.042887",
     "status": "completed"
    },
    "tags": []
   },
   "outputs": [],
   "source": [
    "sample_submission.to_csv('/kaggle/working/submission.csv', index=False)"
   ]
  }
 ],
 "metadata": {
  "kernelspec": {
   "display_name": "Python 3",
   "language": "python",
   "name": "python3"
  },
  "language_info": {
   "codemirror_mode": {
    "name": "ipython",
    "version": 3
   },
   "file_extension": ".py",
   "mimetype": "text/x-python",
   "name": "python",
   "nbconvert_exporter": "python",
   "pygments_lexer": "ipython3",
   "version": "3.10.10"
  },
  "papermill": {
   "default_parameters": {},
   "duration": 32.19165,
   "end_time": "2023-07-09T04:45:53.242898",
   "environment_variables": {},
   "exception": null,
   "input_path": "__notebook__.ipynb",
   "output_path": "__notebook__.ipynb",
   "parameters": {},
   "start_time": "2023-07-09T04:45:21.051248",
   "version": "2.4.0"
  }
 },
 "nbformat": 4,
 "nbformat_minor": 5
}
